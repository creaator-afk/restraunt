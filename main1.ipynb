{
 "cells": [
  {
   "cell_type": "code",
   "execution_count": 35,
   "metadata": {
    "ExecuteTime": {
     "end_time": "2024-01-27T12:13:28.079870100Z",
     "start_time": "2024-01-27T12:13:01.212769300Z"
    }
   },
   "outputs": [],
   "source": [
    "import numpy as np\n",
    "import pandas as pd\n",
    "import seaborn as sb\n",
    "import matplotlib.pyplot as plt\n",
    "import seaborn as sns\n",
    "from sklearn.linear_model import LogisticRegression\n",
    "from sklearn.linear_model import LinearRegression\n",
    "from sklearn.model_selection import train_test_split\n",
    "from sklearn.metrics import classification_report\n",
    "from sklearn.metrics import confusion_matrix\n",
    "from sklearn.metrics import r2_score\n",
    "import warnings\n",
    "warnings.filterwarnings('always')\n",
    "warnings.filterwarnings('ignore')\n",
    "import re\n",
    "from nltk.corpus import stopwords\n",
    "from sklearn.metrics.pairwise import linear_kernel\n",
    "from sklearn.feature_extraction.text import CountVectorizer\n",
    "from sklearn.feature_extraction.text import TfidfVectorizer"
   ]
  },
  {
   "cell_type": "code",
   "execution_count": 36,
   "metadata": {
    "ExecuteTime": {
     "end_time": "2024-01-27T12:13:28.138676Z",
     "start_time": "2024-01-27T12:13:01.219275Z"
    }
   },
   "outputs": [
    {
     "data": {
      "text/plain": "                                                 url  \\\n0  https://www.zomato.com/bangalore/jalsa-banasha...   \n1  https://www.zomato.com/bangalore/spice-elephan...   \n2  https://www.zomato.com/SanchurroBangalore?cont...   \n3  https://www.zomato.com/bangalore/addhuri-udupi...   \n4  https://www.zomato.com/bangalore/grand-village...   \n\n                                             address                   name  \\\n0  942, 21st Main Road, 2nd Stage, Banashankari, ...                  Jalsa   \n1  2nd Floor, 80 Feet Road, Near Big Bazaar, 6th ...         Spice Elephant   \n2  1112, Next to KIMS Medical College, 17th Cross...        San Churro Cafe   \n3  1st Floor, Annakuteera, 3rd Stage, Banashankar...  Addhuri Udupi Bhojana   \n4  10, 3rd Floor, Lakshmi Associates, Gandhi Baza...          Grand Village   \n\n  online_order book_table   rate  votes                             phone  \\\n0          Yes        Yes  4.1/5    775    080 42297555\\r\\n+91 9743772233   \n1          Yes         No  4.1/5    787                      080 41714161   \n2          Yes         No  3.8/5    918                    +91 9663487993   \n3           No         No  3.7/5     88                    +91 9620009302   \n4           No         No  3.8/5    166  +91 8026612447\\r\\n+91 9901210005   \n\n       location            rest_type  \\\n0  Banashankari        Casual Dining   \n1  Banashankari        Casual Dining   \n2  Banashankari  Cafe, Casual Dining   \n3  Banashankari          Quick Bites   \n4  Basavanagudi        Casual Dining   \n\n                                          dish_liked  \\\n0  Pasta, Lunch Buffet, Masala Papad, Paneer Laja...   \n1  Momos, Lunch Buffet, Chocolate Nirvana, Thai G...   \n2  Churros, Cannelloni, Minestrone Soup, Hot Choc...   \n3                                        Masala Dosa   \n4                                Panipuri, Gol Gappe   \n\n                         cuisines approx_cost(for two people)  \\\n0  North Indian, Mughlai, Chinese                         800   \n1     Chinese, North Indian, Thai                         800   \n2          Cafe, Mexican, Italian                         800   \n3      South Indian, North Indian                         300   \n4        North Indian, Rajasthani                         600   \n\n                                        reviews_list menu_item  \\\n0  [('Rated 4.0', 'RATED\\n  A beautiful place to ...        []   \n1  [('Rated 4.0', 'RATED\\n  Had been here for din...        []   \n2  [('Rated 3.0', \"RATED\\n  Ambience is not that ...        []   \n3  [('Rated 4.0', \"RATED\\n  Great food and proper...        []   \n4  [('Rated 4.0', 'RATED\\n  Very good restaurant ...        []   \n\n  listed_in(type) listed_in(city)  \n0          Buffet    Banashankari  \n1          Buffet    Banashankari  \n2          Buffet    Banashankari  \n3          Buffet    Banashankari  \n4          Buffet    Banashankari  ",
      "text/html": "<div>\n<style scoped>\n    .dataframe tbody tr th:only-of-type {\n        vertical-align: middle;\n    }\n\n    .dataframe tbody tr th {\n        vertical-align: top;\n    }\n\n    .dataframe thead th {\n        text-align: right;\n    }\n</style>\n<table border=\"1\" class=\"dataframe\">\n  <thead>\n    <tr style=\"text-align: right;\">\n      <th></th>\n      <th>url</th>\n      <th>address</th>\n      <th>name</th>\n      <th>online_order</th>\n      <th>book_table</th>\n      <th>rate</th>\n      <th>votes</th>\n      <th>phone</th>\n      <th>location</th>\n      <th>rest_type</th>\n      <th>dish_liked</th>\n      <th>cuisines</th>\n      <th>approx_cost(for two people)</th>\n      <th>reviews_list</th>\n      <th>menu_item</th>\n      <th>listed_in(type)</th>\n      <th>listed_in(city)</th>\n    </tr>\n  </thead>\n  <tbody>\n    <tr>\n      <th>0</th>\n      <td>https://www.zomato.com/bangalore/jalsa-banasha...</td>\n      <td>942, 21st Main Road, 2nd Stage, Banashankari, ...</td>\n      <td>Jalsa</td>\n      <td>Yes</td>\n      <td>Yes</td>\n      <td>4.1/5</td>\n      <td>775</td>\n      <td>080 42297555\\r\\n+91 9743772233</td>\n      <td>Banashankari</td>\n      <td>Casual Dining</td>\n      <td>Pasta, Lunch Buffet, Masala Papad, Paneer Laja...</td>\n      <td>North Indian, Mughlai, Chinese</td>\n      <td>800</td>\n      <td>[('Rated 4.0', 'RATED\\n  A beautiful place to ...</td>\n      <td>[]</td>\n      <td>Buffet</td>\n      <td>Banashankari</td>\n    </tr>\n    <tr>\n      <th>1</th>\n      <td>https://www.zomato.com/bangalore/spice-elephan...</td>\n      <td>2nd Floor, 80 Feet Road, Near Big Bazaar, 6th ...</td>\n      <td>Spice Elephant</td>\n      <td>Yes</td>\n      <td>No</td>\n      <td>4.1/5</td>\n      <td>787</td>\n      <td>080 41714161</td>\n      <td>Banashankari</td>\n      <td>Casual Dining</td>\n      <td>Momos, Lunch Buffet, Chocolate Nirvana, Thai G...</td>\n      <td>Chinese, North Indian, Thai</td>\n      <td>800</td>\n      <td>[('Rated 4.0', 'RATED\\n  Had been here for din...</td>\n      <td>[]</td>\n      <td>Buffet</td>\n      <td>Banashankari</td>\n    </tr>\n    <tr>\n      <th>2</th>\n      <td>https://www.zomato.com/SanchurroBangalore?cont...</td>\n      <td>1112, Next to KIMS Medical College, 17th Cross...</td>\n      <td>San Churro Cafe</td>\n      <td>Yes</td>\n      <td>No</td>\n      <td>3.8/5</td>\n      <td>918</td>\n      <td>+91 9663487993</td>\n      <td>Banashankari</td>\n      <td>Cafe, Casual Dining</td>\n      <td>Churros, Cannelloni, Minestrone Soup, Hot Choc...</td>\n      <td>Cafe, Mexican, Italian</td>\n      <td>800</td>\n      <td>[('Rated 3.0', \"RATED\\n  Ambience is not that ...</td>\n      <td>[]</td>\n      <td>Buffet</td>\n      <td>Banashankari</td>\n    </tr>\n    <tr>\n      <th>3</th>\n      <td>https://www.zomato.com/bangalore/addhuri-udupi...</td>\n      <td>1st Floor, Annakuteera, 3rd Stage, Banashankar...</td>\n      <td>Addhuri Udupi Bhojana</td>\n      <td>No</td>\n      <td>No</td>\n      <td>3.7/5</td>\n      <td>88</td>\n      <td>+91 9620009302</td>\n      <td>Banashankari</td>\n      <td>Quick Bites</td>\n      <td>Masala Dosa</td>\n      <td>South Indian, North Indian</td>\n      <td>300</td>\n      <td>[('Rated 4.0', \"RATED\\n  Great food and proper...</td>\n      <td>[]</td>\n      <td>Buffet</td>\n      <td>Banashankari</td>\n    </tr>\n    <tr>\n      <th>4</th>\n      <td>https://www.zomato.com/bangalore/grand-village...</td>\n      <td>10, 3rd Floor, Lakshmi Associates, Gandhi Baza...</td>\n      <td>Grand Village</td>\n      <td>No</td>\n      <td>No</td>\n      <td>3.8/5</td>\n      <td>166</td>\n      <td>+91 8026612447\\r\\n+91 9901210005</td>\n      <td>Basavanagudi</td>\n      <td>Casual Dining</td>\n      <td>Panipuri, Gol Gappe</td>\n      <td>North Indian, Rajasthani</td>\n      <td>600</td>\n      <td>[('Rated 4.0', 'RATED\\n  Very good restaurant ...</td>\n      <td>[]</td>\n      <td>Buffet</td>\n      <td>Banashankari</td>\n    </tr>\n  </tbody>\n</table>\n</div>"
     },
     "execution_count": 36,
     "metadata": {},
     "output_type": "execute_result"
    }
   ],
   "source": [
    "zomato_real=pd.read_csv(\"Dataset/zomato.csv\")\n",
    "zomato_real.head() # prints the first 5 rows of the dataset"
   ]
  },
  {
   "cell_type": "code",
   "execution_count": 37,
   "metadata": {
    "ExecuteTime": {
     "end_time": "2024-01-27T12:13:31.077242200Z",
     "start_time": "2024-01-27T12:13:21.140342600Z"
    }
   },
   "outputs": [],
   "source": [
    "zomato=zomato_real.drop(['url','phone'],axis=1) #Dropping the column \"dish_liked\", \"phone\", \"url\" and saving the new dataset as \"zomato\""
   ]
  },
  {
   "cell_type": "code",
   "execution_count": 38,
   "metadata": {
    "ExecuteTime": {
     "end_time": "2024-01-27T12:13:31.118821900Z",
     "start_time": "2024-01-27T12:13:31.082910100Z"
    }
   },
   "outputs": [
    {
     "data": {
      "text/plain": "                                             address                   name  \\\n0  942, 21st Main Road, 2nd Stage, Banashankari, ...                  Jalsa   \n1  2nd Floor, 80 Feet Road, Near Big Bazaar, 6th ...         Spice Elephant   \n2  1112, Next to KIMS Medical College, 17th Cross...        San Churro Cafe   \n3  1st Floor, Annakuteera, 3rd Stage, Banashankar...  Addhuri Udupi Bhojana   \n4  10, 3rd Floor, Lakshmi Associates, Gandhi Baza...          Grand Village   \n\n  online_order book_table   rate  votes      location            rest_type  \\\n0          Yes        Yes  4.1/5    775  Banashankari        Casual Dining   \n1          Yes         No  4.1/5    787  Banashankari        Casual Dining   \n2          Yes         No  3.8/5    918  Banashankari  Cafe, Casual Dining   \n3           No         No  3.7/5     88  Banashankari          Quick Bites   \n4           No         No  3.8/5    166  Basavanagudi        Casual Dining   \n\n                                          dish_liked  \\\n0  Pasta, Lunch Buffet, Masala Papad, Paneer Laja...   \n1  Momos, Lunch Buffet, Chocolate Nirvana, Thai G...   \n2  Churros, Cannelloni, Minestrone Soup, Hot Choc...   \n3                                        Masala Dosa   \n4                                Panipuri, Gol Gappe   \n\n                         cuisines approx_cost(for two people)  \\\n0  North Indian, Mughlai, Chinese                         800   \n1     Chinese, North Indian, Thai                         800   \n2          Cafe, Mexican, Italian                         800   \n3      South Indian, North Indian                         300   \n4        North Indian, Rajasthani                         600   \n\n                                        reviews_list menu_item  \\\n0  [('Rated 4.0', 'RATED\\n  A beautiful place to ...        []   \n1  [('Rated 4.0', 'RATED\\n  Had been here for din...        []   \n2  [('Rated 3.0', \"RATED\\n  Ambience is not that ...        []   \n3  [('Rated 4.0', \"RATED\\n  Great food and proper...        []   \n4  [('Rated 4.0', 'RATED\\n  Very good restaurant ...        []   \n\n  listed_in(type) listed_in(city)  \n0          Buffet    Banashankari  \n1          Buffet    Banashankari  \n2          Buffet    Banashankari  \n3          Buffet    Banashankari  \n4          Buffet    Banashankari  ",
      "text/html": "<div>\n<style scoped>\n    .dataframe tbody tr th:only-of-type {\n        vertical-align: middle;\n    }\n\n    .dataframe tbody tr th {\n        vertical-align: top;\n    }\n\n    .dataframe thead th {\n        text-align: right;\n    }\n</style>\n<table border=\"1\" class=\"dataframe\">\n  <thead>\n    <tr style=\"text-align: right;\">\n      <th></th>\n      <th>address</th>\n      <th>name</th>\n      <th>online_order</th>\n      <th>book_table</th>\n      <th>rate</th>\n      <th>votes</th>\n      <th>location</th>\n      <th>rest_type</th>\n      <th>dish_liked</th>\n      <th>cuisines</th>\n      <th>approx_cost(for two people)</th>\n      <th>reviews_list</th>\n      <th>menu_item</th>\n      <th>listed_in(type)</th>\n      <th>listed_in(city)</th>\n    </tr>\n  </thead>\n  <tbody>\n    <tr>\n      <th>0</th>\n      <td>942, 21st Main Road, 2nd Stage, Banashankari, ...</td>\n      <td>Jalsa</td>\n      <td>Yes</td>\n      <td>Yes</td>\n      <td>4.1/5</td>\n      <td>775</td>\n      <td>Banashankari</td>\n      <td>Casual Dining</td>\n      <td>Pasta, Lunch Buffet, Masala Papad, Paneer Laja...</td>\n      <td>North Indian, Mughlai, Chinese</td>\n      <td>800</td>\n      <td>[('Rated 4.0', 'RATED\\n  A beautiful place to ...</td>\n      <td>[]</td>\n      <td>Buffet</td>\n      <td>Banashankari</td>\n    </tr>\n    <tr>\n      <th>1</th>\n      <td>2nd Floor, 80 Feet Road, Near Big Bazaar, 6th ...</td>\n      <td>Spice Elephant</td>\n      <td>Yes</td>\n      <td>No</td>\n      <td>4.1/5</td>\n      <td>787</td>\n      <td>Banashankari</td>\n      <td>Casual Dining</td>\n      <td>Momos, Lunch Buffet, Chocolate Nirvana, Thai G...</td>\n      <td>Chinese, North Indian, Thai</td>\n      <td>800</td>\n      <td>[('Rated 4.0', 'RATED\\n  Had been here for din...</td>\n      <td>[]</td>\n      <td>Buffet</td>\n      <td>Banashankari</td>\n    </tr>\n    <tr>\n      <th>2</th>\n      <td>1112, Next to KIMS Medical College, 17th Cross...</td>\n      <td>San Churro Cafe</td>\n      <td>Yes</td>\n      <td>No</td>\n      <td>3.8/5</td>\n      <td>918</td>\n      <td>Banashankari</td>\n      <td>Cafe, Casual Dining</td>\n      <td>Churros, Cannelloni, Minestrone Soup, Hot Choc...</td>\n      <td>Cafe, Mexican, Italian</td>\n      <td>800</td>\n      <td>[('Rated 3.0', \"RATED\\n  Ambience is not that ...</td>\n      <td>[]</td>\n      <td>Buffet</td>\n      <td>Banashankari</td>\n    </tr>\n    <tr>\n      <th>3</th>\n      <td>1st Floor, Annakuteera, 3rd Stage, Banashankar...</td>\n      <td>Addhuri Udupi Bhojana</td>\n      <td>No</td>\n      <td>No</td>\n      <td>3.7/5</td>\n      <td>88</td>\n      <td>Banashankari</td>\n      <td>Quick Bites</td>\n      <td>Masala Dosa</td>\n      <td>South Indian, North Indian</td>\n      <td>300</td>\n      <td>[('Rated 4.0', \"RATED\\n  Great food and proper...</td>\n      <td>[]</td>\n      <td>Buffet</td>\n      <td>Banashankari</td>\n    </tr>\n    <tr>\n      <th>4</th>\n      <td>10, 3rd Floor, Lakshmi Associates, Gandhi Baza...</td>\n      <td>Grand Village</td>\n      <td>No</td>\n      <td>No</td>\n      <td>3.8/5</td>\n      <td>166</td>\n      <td>Basavanagudi</td>\n      <td>Casual Dining</td>\n      <td>Panipuri, Gol Gappe</td>\n      <td>North Indian, Rajasthani</td>\n      <td>600</td>\n      <td>[('Rated 4.0', 'RATED\\n  Very good restaurant ...</td>\n      <td>[]</td>\n      <td>Buffet</td>\n      <td>Banashankari</td>\n    </tr>\n  </tbody>\n</table>\n</div>"
     },
     "execution_count": 38,
     "metadata": {},
     "output_type": "execute_result"
    }
   ],
   "source": [
    "zomato.head()"
   ]
  },
  {
   "cell_type": "code",
   "execution_count": 39,
   "metadata": {
    "ExecuteTime": {
     "end_time": "2024-01-27T12:13:35.802346Z",
     "start_time": "2024-01-27T12:13:31.097645100Z"
    }
   },
   "outputs": [],
   "source": [
    "zomato.duplicated().sum()\n",
    "zomato.drop_duplicates(inplace=True)\n"
   ]
  },
  {
   "cell_type": "code",
   "execution_count": 40,
   "metadata": {
    "ExecuteTime": {
     "end_time": "2024-01-27T12:13:35.963442400Z",
     "start_time": "2024-01-27T12:13:35.812538400Z"
    }
   },
   "outputs": [
    {
     "data": {
      "text/plain": "url                            51717\naddress                        51717\nname                           51717\nonline_order                   51717\nbook_table                     51717\nrate                           43942\nvotes                          51717\nphone                          50509\nlocation                       51696\nrest_type                      51490\ndish_liked                     23639\ncuisines                       51672\napprox_cost(for two people)    51371\nreviews_list                   51717\nmenu_item                      51717\nlisted_in(type)                51717\nlisted_in(city)                51717\ndtype: int64"
     },
     "execution_count": 40,
     "metadata": {},
     "output_type": "execute_result"
    }
   ],
   "source": [
    "zomato_real.count()"
   ]
  },
  {
   "cell_type": "code",
   "execution_count": 41,
   "metadata": {
    "ExecuteTime": {
     "end_time": "2024-01-27T12:13:35.966901800Z",
     "start_time": "2024-01-27T12:13:35.885283700Z"
    }
   },
   "outputs": [
    {
     "data": {
      "text/plain": "address                        51674\nname                           51674\nonline_order                   51674\nbook_table                     51674\nrate                           43907\nvotes                          51674\nlocation                       51653\nrest_type                      51447\ndish_liked                     23627\ncuisines                       51629\napprox_cost(for two people)    51329\nreviews_list                   51674\nmenu_item                      51674\nlisted_in(type)                51674\nlisted_in(city)                51674\ndtype: int64"
     },
     "execution_count": 41,
     "metadata": {},
     "output_type": "execute_result"
    }
   ],
   "source": [
    "zomato.count()\n",
    "\n"
   ]
  },
  {
   "cell_type": "code",
   "execution_count": 42,
   "metadata": {
    "ExecuteTime": {
     "end_time": "2024-01-27T12:13:36.252956400Z",
     "start_time": "2024-01-27T12:13:35.960440700Z"
    }
   },
   "outputs": [
    {
     "data": {
      "text/plain": "address                            0\nname                               0\nonline_order                       0\nbook_table                         0\nrate                            7767\nvotes                              0\nlocation                          21\nrest_type                        227\ndish_liked                     28047\ncuisines                          45\napprox_cost(for two people)      345\nreviews_list                       0\nmenu_item                          0\nlisted_in(type)                    0\nlisted_in(city)                    0\ndtype: int64"
     },
     "execution_count": 42,
     "metadata": {},
     "output_type": "execute_result"
    }
   ],
   "source": [
    "zomato.isnull().sum()"
   ]
  },
  {
   "cell_type": "code",
   "execution_count": 43,
   "metadata": {
    "ExecuteTime": {
     "end_time": "2024-01-27T12:13:36.400597200Z",
     "start_time": "2024-01-27T12:13:35.976460100Z"
    }
   },
   "outputs": [],
   "source": [
    "zomato.dropna(how='any',inplace=True)"
   ]
  },
  {
   "cell_type": "code",
   "execution_count": 44,
   "metadata": {
    "ExecuteTime": {
     "end_time": "2024-01-27T12:13:36.491418500Z",
     "start_time": "2024-01-27T12:13:36.032949600Z"
    }
   },
   "outputs": [
    {
     "data": {
      "text/plain": "address                        0\nname                           0\nonline_order                   0\nbook_table                     0\nrate                           0\nvotes                          0\nlocation                       0\nrest_type                      0\ndish_liked                     0\ncuisines                       0\napprox_cost(for two people)    0\nreviews_list                   0\nmenu_item                      0\nlisted_in(type)                0\nlisted_in(city)                0\ndtype: int64"
     },
     "execution_count": 44,
     "metadata": {},
     "output_type": "execute_result"
    }
   ],
   "source": [
    "zomato.isnull().sum()"
   ]
  },
  {
   "cell_type": "code",
   "execution_count": 45,
   "metadata": {
    "ExecuteTime": {
     "end_time": "2024-01-27T12:13:36.491418500Z",
     "start_time": "2024-01-27T12:13:36.063629700Z"
    }
   },
   "outputs": [],
   "source": [
    "zomato = zomato.rename(columns={'approx_cost(for two people)':'cost','listed_in(type)':'type', 'listed_in(city)':'city'})"
   ]
  },
  {
   "cell_type": "code",
   "execution_count": 46,
   "metadata": {
    "ExecuteTime": {
     "end_time": "2024-01-27T12:13:36.557597200Z",
     "start_time": "2024-01-27T12:13:36.086806300Z"
    }
   },
   "outputs": [
    {
     "data": {
      "text/plain": "                                             address                   name  \\\n0  942, 21st Main Road, 2nd Stage, Banashankari, ...                  Jalsa   \n1  2nd Floor, 80 Feet Road, Near Big Bazaar, 6th ...         Spice Elephant   \n2  1112, Next to KIMS Medical College, 17th Cross...        San Churro Cafe   \n3  1st Floor, Annakuteera, 3rd Stage, Banashankar...  Addhuri Udupi Bhojana   \n4  10, 3rd Floor, Lakshmi Associates, Gandhi Baza...          Grand Village   \n\n  online_order book_table   rate  votes      location            rest_type  \\\n0          Yes        Yes  4.1/5    775  Banashankari        Casual Dining   \n1          Yes         No  4.1/5    787  Banashankari        Casual Dining   \n2          Yes         No  3.8/5    918  Banashankari  Cafe, Casual Dining   \n3           No         No  3.7/5     88  Banashankari          Quick Bites   \n4           No         No  3.8/5    166  Basavanagudi        Casual Dining   \n\n                                          dish_liked  \\\n0  Pasta, Lunch Buffet, Masala Papad, Paneer Laja...   \n1  Momos, Lunch Buffet, Chocolate Nirvana, Thai G...   \n2  Churros, Cannelloni, Minestrone Soup, Hot Choc...   \n3                                        Masala Dosa   \n4                                Panipuri, Gol Gappe   \n\n                         cuisines cost  \\\n0  North Indian, Mughlai, Chinese  800   \n1     Chinese, North Indian, Thai  800   \n2          Cafe, Mexican, Italian  800   \n3      South Indian, North Indian  300   \n4        North Indian, Rajasthani  600   \n\n                                        reviews_list menu_item    type  \\\n0  [('Rated 4.0', 'RATED\\n  A beautiful place to ...        []  Buffet   \n1  [('Rated 4.0', 'RATED\\n  Had been here for din...        []  Buffet   \n2  [('Rated 3.0', \"RATED\\n  Ambience is not that ...        []  Buffet   \n3  [('Rated 4.0', \"RATED\\n  Great food and proper...        []  Buffet   \n4  [('Rated 4.0', 'RATED\\n  Very good restaurant ...        []  Buffet   \n\n           city  \n0  Banashankari  \n1  Banashankari  \n2  Banashankari  \n3  Banashankari  \n4  Banashankari  ",
      "text/html": "<div>\n<style scoped>\n    .dataframe tbody tr th:only-of-type {\n        vertical-align: middle;\n    }\n\n    .dataframe tbody tr th {\n        vertical-align: top;\n    }\n\n    .dataframe thead th {\n        text-align: right;\n    }\n</style>\n<table border=\"1\" class=\"dataframe\">\n  <thead>\n    <tr style=\"text-align: right;\">\n      <th></th>\n      <th>address</th>\n      <th>name</th>\n      <th>online_order</th>\n      <th>book_table</th>\n      <th>rate</th>\n      <th>votes</th>\n      <th>location</th>\n      <th>rest_type</th>\n      <th>dish_liked</th>\n      <th>cuisines</th>\n      <th>cost</th>\n      <th>reviews_list</th>\n      <th>menu_item</th>\n      <th>type</th>\n      <th>city</th>\n    </tr>\n  </thead>\n  <tbody>\n    <tr>\n      <th>0</th>\n      <td>942, 21st Main Road, 2nd Stage, Banashankari, ...</td>\n      <td>Jalsa</td>\n      <td>Yes</td>\n      <td>Yes</td>\n      <td>4.1/5</td>\n      <td>775</td>\n      <td>Banashankari</td>\n      <td>Casual Dining</td>\n      <td>Pasta, Lunch Buffet, Masala Papad, Paneer Laja...</td>\n      <td>North Indian, Mughlai, Chinese</td>\n      <td>800</td>\n      <td>[('Rated 4.0', 'RATED\\n  A beautiful place to ...</td>\n      <td>[]</td>\n      <td>Buffet</td>\n      <td>Banashankari</td>\n    </tr>\n    <tr>\n      <th>1</th>\n      <td>2nd Floor, 80 Feet Road, Near Big Bazaar, 6th ...</td>\n      <td>Spice Elephant</td>\n      <td>Yes</td>\n      <td>No</td>\n      <td>4.1/5</td>\n      <td>787</td>\n      <td>Banashankari</td>\n      <td>Casual Dining</td>\n      <td>Momos, Lunch Buffet, Chocolate Nirvana, Thai G...</td>\n      <td>Chinese, North Indian, Thai</td>\n      <td>800</td>\n      <td>[('Rated 4.0', 'RATED\\n  Had been here for din...</td>\n      <td>[]</td>\n      <td>Buffet</td>\n      <td>Banashankari</td>\n    </tr>\n    <tr>\n      <th>2</th>\n      <td>1112, Next to KIMS Medical College, 17th Cross...</td>\n      <td>San Churro Cafe</td>\n      <td>Yes</td>\n      <td>No</td>\n      <td>3.8/5</td>\n      <td>918</td>\n      <td>Banashankari</td>\n      <td>Cafe, Casual Dining</td>\n      <td>Churros, Cannelloni, Minestrone Soup, Hot Choc...</td>\n      <td>Cafe, Mexican, Italian</td>\n      <td>800</td>\n      <td>[('Rated 3.0', \"RATED\\n  Ambience is not that ...</td>\n      <td>[]</td>\n      <td>Buffet</td>\n      <td>Banashankari</td>\n    </tr>\n    <tr>\n      <th>3</th>\n      <td>1st Floor, Annakuteera, 3rd Stage, Banashankar...</td>\n      <td>Addhuri Udupi Bhojana</td>\n      <td>No</td>\n      <td>No</td>\n      <td>3.7/5</td>\n      <td>88</td>\n      <td>Banashankari</td>\n      <td>Quick Bites</td>\n      <td>Masala Dosa</td>\n      <td>South Indian, North Indian</td>\n      <td>300</td>\n      <td>[('Rated 4.0', \"RATED\\n  Great food and proper...</td>\n      <td>[]</td>\n      <td>Buffet</td>\n      <td>Banashankari</td>\n    </tr>\n    <tr>\n      <th>4</th>\n      <td>10, 3rd Floor, Lakshmi Associates, Gandhi Baza...</td>\n      <td>Grand Village</td>\n      <td>No</td>\n      <td>No</td>\n      <td>3.8/5</td>\n      <td>166</td>\n      <td>Basavanagudi</td>\n      <td>Casual Dining</td>\n      <td>Panipuri, Gol Gappe</td>\n      <td>North Indian, Rajasthani</td>\n      <td>600</td>\n      <td>[('Rated 4.0', 'RATED\\n  Very good restaurant ...</td>\n      <td>[]</td>\n      <td>Buffet</td>\n      <td>Banashankari</td>\n    </tr>\n  </tbody>\n</table>\n</div>"
     },
     "execution_count": 46,
     "metadata": {},
     "output_type": "execute_result"
    }
   ],
   "source": [
    "zomato.head()"
   ]
  },
  {
   "cell_type": "code",
   "execution_count": 47,
   "metadata": {
    "ExecuteTime": {
     "end_time": "2024-01-27T12:13:36.559591600Z",
     "start_time": "2024-01-27T12:13:36.116583300Z"
    }
   },
   "outputs": [],
   "source": [
    "#Some Transformations\n",
    "zomato['cost'] = zomato['cost'].astype(str) #Changing the cost to string\n"
   ]
  },
  {
   "cell_type": "code",
   "execution_count": 48,
   "metadata": {
    "ExecuteTime": {
     "end_time": "2024-01-27T12:13:36.575663600Z",
     "start_time": "2024-01-27T12:13:36.130658500Z"
    }
   },
   "outputs": [
    {
     "data": {
      "text/plain": "0          800\n1          800\n2          800\n3          300\n4          600\n         ...  \n51712    1,500\n51713      600\n51714    2,000\n51715    2,500\n51716    1,500\nName: approx_cost(for two people), Length: 51717, dtype: object"
     },
     "execution_count": 48,
     "metadata": {},
     "output_type": "execute_result"
    }
   ],
   "source": [
    "zomato_real['approx_cost(for two people)']"
   ]
  },
  {
   "cell_type": "code",
   "execution_count": 49,
   "metadata": {
    "ExecuteTime": {
     "end_time": "2024-01-27T12:13:36.577670300Z",
     "start_time": "2024-01-27T12:13:36.151569800Z"
    }
   },
   "outputs": [],
   "source": [
    "zomato['cost'] = zomato['cost'].apply(lambda x: x.replace(',','.')) #Using lambda function to replace ',' from cost"
   ]
  },
  {
   "cell_type": "code",
   "execution_count": 50,
   "metadata": {
    "ExecuteTime": {
     "end_time": "2024-01-27T12:13:36.642328500Z",
     "start_time": "2024-01-27T12:13:36.166655100Z"
    }
   },
   "outputs": [],
   "source": [
    "zomato['cost'] = zomato['cost'].astype(float)"
   ]
  },
  {
   "cell_type": "code",
   "execution_count": 51,
   "metadata": {
    "ExecuteTime": {
     "end_time": "2024-01-27T12:13:36.643328Z",
     "start_time": "2024-01-27T12:13:36.186062500Z"
    }
   },
   "outputs": [],
   "source": [
    "zomato = zomato.loc[zomato.rate !='NEW']\n",
    "zomato = zomato.loc[zomato.rate !='-'].reset_index(drop=True)\n"
   ]
  },
  {
   "cell_type": "code",
   "execution_count": 52,
   "metadata": {
    "ExecuteTime": {
     "end_time": "2024-01-27T12:13:36.643328Z",
     "start_time": "2024-01-27T12:13:36.238808600Z"
    }
   },
   "outputs": [],
   "source": [
    "def remove_slash(x):\n",
    "    if isinstance(x, str):\n",
    "        return x.replace('/5', '')\n",
    "    else:\n",
    "        return x"
   ]
  },
  {
   "cell_type": "code",
   "execution_count": 53,
   "metadata": {
    "ExecuteTime": {
     "end_time": "2024-01-27T12:13:36.666013100Z",
     "start_time": "2024-01-27T12:13:36.247955900Z"
    }
   },
   "outputs": [],
   "source": [
    "\n",
    "zomato['rate'] = zomato['rate'].apply(remove_slash).str.strip().astype(float)\n"
   ]
  },
  {
   "cell_type": "code",
   "execution_count": 54,
   "metadata": {
    "ExecuteTime": {
     "end_time": "2024-01-27T12:13:36.712322Z",
     "start_time": "2024-01-27T12:13:36.292362200Z"
    }
   },
   "outputs": [
    {
     "data": {
      "text/plain": "0        4.1\n1        4.1\n2        3.8\n3        3.7\n4        3.8\n        ... \n23243    3.8\n23244    3.9\n23245    2.8\n23246    2.5\n23247    4.3\nName: rate, Length: 23248, dtype: float64"
     },
     "execution_count": 54,
     "metadata": {},
     "output_type": "execute_result"
    }
   ],
   "source": [
    "zomato['rate']"
   ]
  },
  {
   "cell_type": "code",
   "execution_count": 55,
   "metadata": {
    "ExecuteTime": {
     "end_time": "2024-01-27T12:13:36.713832800Z",
     "start_time": "2024-01-27T12:13:36.306698300Z"
    }
   },
   "outputs": [],
   "source": [
    "# Adjust the column names\n",
    "zomato.name = zomato.name.apply(lambda x:x.title())\n",
    "zomato.online_order.replace(('Yes','No'),(True, False),inplace=True)\n",
    "zomato.book_table.replace(('Yes','No'),(True, False),inplace=True)"
   ]
  },
  {
   "cell_type": "code",
   "execution_count": 56,
   "metadata": {
    "ExecuteTime": {
     "end_time": "2024-01-27T12:13:51.308697800Z",
     "start_time": "2024-01-27T12:13:36.370447900Z"
    }
   },
   "outputs": [],
   "source": [
    "## Computing Mean Rating\n",
    "restaurants = list(zomato['name'].unique())\n",
    "zomato['Mean Rating'] = 0\n",
    "\n",
    "for i in range(len(restaurants)):\n",
    "    zomato['Mean Rating'][zomato['name'] == restaurants[i]] = zomato['rate'][zomato['name'] == restaurants[i]].mean()\n",
    "    \n",
    "from sklearn.preprocessing import MinMaxScaler\n",
    "scaler = MinMaxScaler(feature_range = (1,5))\n",
    "zomato[['Mean Rating']] = scaler.fit_transform(zomato[['Mean Rating']]).round(2)"
   ]
  },
  {
   "cell_type": "code",
   "execution_count": 57,
   "metadata": {
    "ExecuteTime": {
     "end_time": "2024-01-27T12:13:59.277370500Z",
     "start_time": "2024-01-27T12:13:51.309054200Z"
    }
   },
   "outputs": [],
   "source": [
    "## Lower Casing\n",
    "zomato[\"reviews_list\"] = zomato[\"reviews_list\"].str.lower()"
   ]
  },
  {
   "cell_type": "code",
   "execution_count": 58,
   "metadata": {
    "ExecuteTime": {
     "end_time": "2024-01-27T12:14:32.609629600Z",
     "start_time": "2024-01-27T12:13:59.340281800Z"
    }
   },
   "outputs": [],
   "source": [
    "## Removal of Puctuations\n",
    "import string\n",
    "PUNCT_TO_REMOVE = string.punctuation\n",
    "def remove_punctuation(text):\n",
    "    \"\"\"custom function to remove the punctuation\"\"\"\n",
    "    return text.translate(str.maketrans('', '', PUNCT_TO_REMOVE))\n",
    "\n",
    "zomato[\"reviews_list\"] = zomato[\"reviews_list\"].apply(lambda text: remove_punctuation(text))"
   ]
  },
  {
   "cell_type": "code",
   "execution_count": 59,
   "metadata": {
    "ExecuteTime": {
     "end_time": "2024-01-27T12:14:50.819828800Z",
     "start_time": "2024-01-27T12:14:32.611627800Z"
    }
   },
   "outputs": [
    {
     "name": "stderr",
     "output_type": "stream",
     "text": [
      "[nltk_data] Downloading package stopwords to\n",
      "[nltk_data]     C:\\Users\\akuma\\AppData\\Roaming\\nltk_data...\n",
      "[nltk_data]   Package stopwords is already up-to-date!\n"
     ]
    }
   ],
   "source": [
    "## Removal of Stopwords\n",
    "\n",
    "import nltk\n",
    "nltk.download('stopwords')\n",
    "from nltk.corpus import stopwords\n",
    "STOPWORDS = set(stopwords.words('english'))\n",
    "def remove_stopwords(text):\n",
    "    \"\"\"custom function to remove the stopwords\"\"\"\n",
    "    return \" \".join([word for word in str(text).split() if word not in STOPWORDS])\n",
    "\n",
    "zomato[\"reviews_list\"] = zomato[\"reviews_list\"].apply(lambda text: remove_stopwords(text))\n"
   ]
  },
  {
   "cell_type": "code",
   "execution_count": 60,
   "metadata": {
    "ExecuteTime": {
     "end_time": "2024-01-27T12:14:51.177860600Z",
     "start_time": "2024-01-27T12:14:50.237471600Z"
    }
   },
   "outputs": [
    {
     "data": {
      "text/plain": "0        4.1\n1        4.1\n2        3.8\n3        3.7\n4        3.8\n        ... \n23243    3.8\n23244    3.9\n23245    2.8\n23246    2.5\n23247    4.3\nName: rate, Length: 23248, dtype: float64"
     },
     "execution_count": 60,
     "metadata": {},
     "output_type": "execute_result"
    }
   ],
   "source": [
    "zomato['rate']"
   ]
  },
  {
   "cell_type": "code",
   "execution_count": 61,
   "metadata": {
    "ExecuteTime": {
     "end_time": "2024-01-27T12:14:51.178860600Z",
     "start_time": "2024-01-27T12:14:50.238472700Z"
    }
   },
   "outputs": [
    {
     "data": {
      "text/plain": "0        3.99\n1        3.97\n2        3.58\n3        3.45\n4        3.58\n         ... \n23243    3.58\n23244    3.71\n23245    2.61\n23246    1.61\n23247    4.23\nName: Mean Rating, Length: 23248, dtype: float64"
     },
     "execution_count": 61,
     "metadata": {},
     "output_type": "execute_result"
    }
   ],
   "source": [
    "zomato['Mean Rating']"
   ]
  },
  {
   "cell_type": "code",
   "execution_count": 62,
   "metadata": {
    "ExecuteTime": {
     "end_time": "2024-01-27T12:14:53.066663800Z",
     "start_time": "2024-01-27T12:14:50.238472700Z"
    }
   },
   "outputs": [],
   "source": [
    "## Removal of URLS\n",
    "def remove_urls(text):\n",
    "    url_pattern = re.compile(r'https?://\\S+|www\\.\\S+')\n",
    "    return url_pattern.sub(r'', text)\n",
    "\n",
    "zomato[\"reviews_list\"] = zomato[\"reviews_list\"].apply(lambda text: remove_urls(text))"
   ]
  },
  {
   "cell_type": "code",
   "execution_count": 63,
   "metadata": {
    "ExecuteTime": {
     "end_time": "2024-01-27T12:14:54.649782800Z",
     "start_time": "2024-01-27T12:14:52.097001700Z"
    }
   },
   "outputs": [
    {
     "data": {
      "text/plain": "                                            reviews_list  \\\n5584   rated 40 ratedn honestly understand maintain o...   \n6280   rated 50 ratedn ordered fish tikka real good f...   \n3559   rated 30 ratedn restaurant placed opposite she...   \n18133  rated 40 ratedn nice rooftop bar great views p...   \n989    rated 50 ratedn dear biryanis moreni cannot ex...   \n\n                                                cuisines  \n5584                       Cafe, American, Burger, Steak  \n6280                               North Indian, Chinese  \n3559                                        North Indian  \n18133                           Finger Food, Continental  \n989    Biryani, North Indian, Chinese, Andhra, South ...  ",
      "text/html": "<div>\n<style scoped>\n    .dataframe tbody tr th:only-of-type {\n        vertical-align: middle;\n    }\n\n    .dataframe tbody tr th {\n        vertical-align: top;\n    }\n\n    .dataframe thead th {\n        text-align: right;\n    }\n</style>\n<table border=\"1\" class=\"dataframe\">\n  <thead>\n    <tr style=\"text-align: right;\">\n      <th></th>\n      <th>reviews_list</th>\n      <th>cuisines</th>\n    </tr>\n  </thead>\n  <tbody>\n    <tr>\n      <th>5584</th>\n      <td>rated 40 ratedn honestly understand maintain o...</td>\n      <td>Cafe, American, Burger, Steak</td>\n    </tr>\n    <tr>\n      <th>6280</th>\n      <td>rated 50 ratedn ordered fish tikka real good f...</td>\n      <td>North Indian, Chinese</td>\n    </tr>\n    <tr>\n      <th>3559</th>\n      <td>rated 30 ratedn restaurant placed opposite she...</td>\n      <td>North Indian</td>\n    </tr>\n    <tr>\n      <th>18133</th>\n      <td>rated 40 ratedn nice rooftop bar great views p...</td>\n      <td>Finger Food, Continental</td>\n    </tr>\n    <tr>\n      <th>989</th>\n      <td>rated 50 ratedn dear biryanis moreni cannot ex...</td>\n      <td>Biryani, North Indian, Chinese, Andhra, South ...</td>\n    </tr>\n  </tbody>\n</table>\n</div>"
     },
     "execution_count": 63,
     "metadata": {},
     "output_type": "execute_result"
    }
   ],
   "source": [
    "zomato[['reviews_list', 'cuisines']].sample(5)"
   ]
  },
  {
   "cell_type": "code",
   "execution_count": 64,
   "metadata": {
    "ExecuteTime": {
     "end_time": "2024-01-27T12:14:59.960308100Z",
     "start_time": "2024-01-27T12:14:53.222216700Z"
    }
   },
   "outputs": [],
   "source": [
    "# RESTAURANT NAMES:\n",
    "restaurant_names = list(zomato['name'].unique())\n",
    "def get_top_words(column, top_nu_of_words, nu_of_word):\n",
    "    vec = CountVectorizer(ngram_range= nu_of_word, stop_words='english')\n",
    "    bag_of_words = vec.fit_transform(column)\n",
    "    sum_words = bag_of_words.sum(axis=0)\n",
    "    words_freq = [(word, sum_words[0, idx]) for word, idx in vec.vocabulary_.items()]\n",
    "    words_freq =sorted(words_freq, key = lambda x: x[1], reverse=True)\n",
    "    return words_freq[:top_nu_of_words]"
   ]
  },
  {
   "cell_type": "code",
   "execution_count": 65,
   "metadata": {
    "ExecuteTime": {
     "end_time": "2024-01-27T12:15:20.391997400Z",
     "start_time": "2024-01-27T12:14:59.219742200Z"
    }
   },
   "outputs": [],
   "source": [
    "# Randomly sample 60% of your dataframe\n",
    "df_percent = zomato.sample(frac=0.5)"
   ]
  },
  {
   "cell_type": "code",
   "execution_count": 66,
   "metadata": {
    "ExecuteTime": {
     "end_time": "2024-01-27T12:15:20.408298700Z",
     "start_time": "2024-01-27T12:15:20.399966Z"
    }
   },
   "outputs": [
    {
     "data": {
      "text/plain": "Index(['address', 'name', 'online_order', 'book_table', 'rate', 'votes',\n       'location', 'rest_type', 'dish_liked', 'cuisines', 'cost',\n       'reviews_list', 'menu_item', 'type', 'city', 'Mean Rating'],\n      dtype='object')"
     },
     "execution_count": 66,
     "metadata": {},
     "output_type": "execute_result"
    }
   ],
   "source": [
    "df_percent.columns\n"
   ]
  },
  {
   "cell_type": "code",
   "execution_count": 67,
   "metadata": {
    "ExecuteTime": {
     "end_time": "2024-01-27T12:15:20.487719200Z",
     "start_time": "2024-01-27T12:15:20.405185900Z"
    }
   },
   "outputs": [],
   "source": [
    "df_percent.set_index('name', inplace=True)\n",
    "indices = pd.Series(df_percent.index)"
   ]
  },
  {
   "cell_type": "code",
   "execution_count": 68,
   "metadata": {
    "ExecuteTime": {
     "end_time": "2024-01-27T12:15:20.495936400Z",
     "start_time": "2024-01-27T12:15:20.459328700Z"
    }
   },
   "outputs": [],
   "source": [
    "# Creating tf-idf matrix\n",
    "tfidf = TfidfVectorizer(analyzer='word', ngram_range=(1, 2), min_df=0.0, stop_words='english')\n"
   ]
  },
  {
   "cell_type": "code",
   "execution_count": 69,
   "metadata": {
    "ExecuteTime": {
     "end_time": "2024-01-27T12:20:00.258317400Z",
     "start_time": "2024-01-27T12:15:20.487719200Z"
    }
   },
   "outputs": [],
   "source": [
    "tfidf_matrix = tfidf.fit_transform(df_percent['reviews_list'])\n",
    "cosine_similarities = linear_kernel(tfidf_matrix, tfidf_matrix)"
   ]
  },
  {
   "cell_type": "code",
   "execution_count": 70,
   "metadata": {
    "ExecuteTime": {
     "end_time": "2024-01-27T12:20:13.747761900Z",
     "start_time": "2024-01-27T12:19:59.701083300Z"
    }
   },
   "outputs": [
    {
     "data": {
      "text/plain": "Index(['address', 'name', 'online_order', 'book_table', 'rate', 'votes',\n       'location', 'rest_type', 'dish_liked', 'cuisines', 'cost',\n       'reviews_list', 'menu_item', 'type', 'city', 'Mean Rating'],\n      dtype='object')"
     },
     "execution_count": 70,
     "metadata": {},
     "output_type": "execute_result"
    }
   ],
   "source": [
    "zomato.columns\n"
   ]
  },
  {
   "cell_type": "code",
   "execution_count": 71,
   "metadata": {
    "ExecuteTime": {
     "end_time": "2024-01-27T12:20:13.803296100Z",
     "start_time": "2024-01-27T12:20:03.388737700Z"
    }
   },
   "outputs": [
    {
     "data": {
      "text/plain": "Index(['url', 'address', 'name', 'online_order', 'book_table', 'rate', 'votes',\n       'phone', 'location', 'rest_type', 'dish_liked', 'cuisines',\n       'approx_cost(for two people)', 'reviews_list', 'menu_item',\n       'listed_in(type)', 'listed_in(city)'],\n      dtype='object')"
     },
     "execution_count": 71,
     "metadata": {},
     "output_type": "execute_result"
    }
   ],
   "source": [
    "zomato_real.columns"
   ]
  },
  {
   "cell_type": "code",
   "execution_count": 72,
   "metadata": {
    "ExecuteTime": {
     "end_time": "2024-01-27T12:20:15.089822400Z",
     "start_time": "2024-01-27T12:20:04.325239100Z"
    }
   },
   "outputs": [
    {
     "data": {
      "text/plain": "0"
     },
     "execution_count": 72,
     "metadata": {},
     "output_type": "execute_result"
    }
   ],
   "source": [
    "df_percent['reviews_list'].isnull().sum()\n"
   ]
  },
  {
   "cell_type": "code",
   "execution_count": 73,
   "metadata": {
    "ExecuteTime": {
     "end_time": "2024-01-27T12:20:15.090377400Z",
     "start_time": "2024-01-27T12:20:14.688205700Z"
    }
   },
   "outputs": [],
   "source": [
    "# def recommend(name, cosine_similarities=cosine_similarities):\n",
    "#     try:\n",
    "#         idx = indices[indices == name].index[0]\n",
    "#     except IndexError:\n",
    "#         print(f'Restaurant \"{name}\" not found.')\n",
    "#         return None\n",
    "\n",
    "#     score_series = pd.Series(cosine_similarities[idx]).sort_values(ascending=False)\n",
    "#     top30_indexes = list(score_series.iloc[0:31].index)\n",
    "\n",
    "#     recommend_restaurant = [list(df_percent.index)[each] for each in top30_indexes]\n",
    "\n",
    "#     # Creating the new data set to show similar restaurants\n",
    "#     df_new_list = []\n",
    "\n",
    "#     for each in recommend_restaurant:\n",
    "#         df_new_list.append(df_percent.loc[df_percent.index == each, ['address', 'cuisines', 'Mean Rating', 'online_order', 'cost']].sample())\n",
    "\n",
    "#     # Concatenate the list of DataFrames into a single DataFrame\n",
    "#     df_new = pd.concat(df_new_list)\n",
    "\n",
    "#     # Drop duplicates and sort by Mean Rating\n",
    "#     df_new = df_new.drop_duplicates(subset=['address', 'cuisines', 'Mean Rating', 'online_order', 'cost'], keep=False)\n",
    "#     df_new = df_new.sort_values(by='Mean Rating', ascending=False).head(1000)\n",
    "\n",
    "#     print(f'TOP {len(df_new)} RESTAURANTS LIKE {name} WITH SIMILAR REVIEWS: ')\n",
    "    \n",
    "#     return df_new\n",
    "\n"
   ]
  },
  {
   "cell_type": "code",
   "execution_count": 74,
   "metadata": {
    "ExecuteTime": {
     "end_time": "2024-01-27T12:20:15.109216600Z",
     "start_time": "2024-01-27T12:20:14.698193400Z"
    }
   },
   "outputs": [],
   "source": [
    "# def recommend(name, cosine_similarities=cosine_similarities):\n",
    "#     try:\n",
    "#         idx = indices[indices == name].index[0]\n",
    "#     except IndexError:\n",
    "#         print(f'Restaurant \"{name}\" not found.')\n",
    "#         return None\n",
    "\n",
    "#     score_series = pd.Series(cosine_similarities[idx]).sort_values(ascending=False)\n",
    "#     top30_indexes = list(score_series.iloc[0:31].index)\n",
    "\n",
    "#     recommend_restaurant = [list(df_percent.index)[each] for each in top30_indexes]\n",
    "\n",
    "#     # Creating the new data set to show similar restaurants\n",
    "#     df_new_list = []\n",
    "\n",
    "#     for each in recommend_restaurant:\n",
    "#         df_new_list.append(df_percent.loc[df_percent.index == each,  ['address', 'cuisines', 'Mean Rating', 'online_order', 'cost']].sample())\n",
    "\n",
    "#     # Concatenate the list of DataFrames into a single DataFrame\n",
    "#     df_new = pd.concat(df_new_list)\n",
    "\n",
    "#     # Drop duplicates and sort by Mean Rating\n",
    "#     df_new = df_new.drop_duplicates(subset=['address', 'cuisines', 'Mean Rating', 'online_order', 'cost'], keep=False)\n",
    "#     df_new = df_new.sort_values(by='Mean Rating', ascending=False).head(1000)\n",
    "    \n",
    "\n",
    "\n",
    "#     print(f'TOP {len(df_new)} RESTAURANTS LIKE {name} WITH SIMILAR REVIEWS: ')\n",
    "    \n",
    "#     return df_new\n",
    "\n"
   ]
  },
  {
   "cell_type": "code",
   "execution_count": 75,
   "metadata": {
    "ExecuteTime": {
     "end_time": "2024-01-27T12:20:15.237134600Z",
     "start_time": "2024-01-27T12:20:14.957057600Z"
    }
   },
   "outputs": [],
   "source": [
    "def recommend(name, cosine_similarities=cosine_similarities):\n",
    "    try:\n",
    "        idx_candidates = indices[indices == name].index\n",
    "\n",
    "        if not idx_candidates.empty:\n",
    "            idx = idx_candidates[0]\n",
    "        else:\n",
    "            print(f'Restaurant \"{name}\" not found.')\n",
    "            return None\n",
    "\n",
    "        score_series = pd.Series(cosine_similarities[idx]).sort_values(ascending=False)\n",
    "        top30_indexes = list(score_series.iloc[0:31].index)\n",
    "\n",
    "        recommend_restaurant = [list(df_percent.index)[each] for each in top30_indexes]\n",
    "\n",
    "        # Creating the new data set to show similar restaurants\n",
    "        df_new_list = []\n",
    "\n",
    "        for each in recommend_restaurant:\n",
    "            df_temp = df_percent.loc[df_percent.index == each, ['address', 'cuisines', 'Mean Rating', 'online_order', 'cost']].sample()\n",
    "\n",
    "            # Add a new column 'name' with the value of the original index\n",
    "            df_temp['name'] = each\n",
    "            \n",
    "            df_new_list.append(df_temp)\n",
    "\n",
    "        # Concatenate the list of DataFrames into a single DataFrame\n",
    "        df_new = pd.concat(df_new_list, ignore_index=True)\n",
    "\n",
    "        # Reorder columns to have 'name' as the first column\n",
    "        df_new = df_new[['name', 'address', 'cuisines', 'Mean Rating', 'online_order', 'cost']]\n",
    "\n",
    "        # Drop duplicates and sort by Mean Rating\n",
    "        df_new = df_new.drop_duplicates(subset=['name', 'address', 'cuisines', 'Mean Rating', 'online_order', 'cost'])\n",
    "        df_new = df_new.sort_values(by='Mean Rating', ascending=False).head(1000)\n",
    "\n",
    "        print(f'TOP {len(df_new)} RESTAURANTS LIKE {name} WITH SIMILAR REVIEWS: ')\n",
    "\n",
    "        return df_new\n",
    "    except Exception as e:\n",
    "        print(f'An error occurred: {str(e)}')\n",
    "        return None\n",
    "\n",
    "# Assuming df_percent is your DataFrame and indices is the indices Series\n",
    "# Make sure to replace these with your actual DataFrame and indices\n",
    "\n",
    "\n"
   ]
  },
  {
   "cell_type": "code",
   "execution_count": 76,
   "metadata": {
    "ExecuteTime": {
     "end_time": "2024-01-27T12:20:16.149856800Z",
     "start_time": "2024-01-27T12:20:15.249545900Z"
    }
   },
   "outputs": [
    {
     "name": "stdout",
     "output_type": "stream",
     "text": [
      "TOP 18 RESTAURANTS LIKE Spice Elephant WITH SIMILAR REVIEWS: \n"
     ]
    },
    {
     "data": {
      "text/plain": "                             name  \\\n23                 Tbc Sky Lounge   \n30                      Communiti   \n27       Brooks And Bonds Brewery   \n14                   Crawl Street   \n18                           Hoot   \n0                  Spice Elephant   \n2                          Atithi   \n5                        Cinnamon   \n25             Pallavi Restaurant   \n16                Nouvelle Garden   \n26                  Cafe @ Elanza   \n21                      The Diner   \n6                Marwa Restaurant   \n11           Melange - Hotel Ekaa   \n10  Flavours - Octave Hotel & Spa   \n24                        Paprica   \n20                        Paprica   \n22                     Dal Tadkaa   \n\n                                              address  \\\n23  Astra Hotel, 2795, 27th Main, Sector 1, HSR, B...   \n30  67 & 68, Brigade Solitaire, Opposite to Advait...   \n27  4, 100 Feet Road, Koramangala 5th Block, Banga...   \n14  77/A, 4th Floor Floor, Jyoti Nivas College Roa...   \n18  2034/69, Block 2, Kaikondrahalli, Varthur Hobl...   \n0   2nd Floor, 80 Feet Road, Near Big Bazaar, 6th ...   \n2   219/2, 1st Floor, 9th Main, 15th A Cross, 6th ...   \n5   78, Ground Floor, Right Wing, 11th Main, 14th ...   \n25  BMTC Bus Depot, 1st Floor, Hosur Main Road, El...   \n16  The Ambient Turret, 35/A, 1st Main Road, 3rd P...   \n26  The Elanza Hotel, 88/2 Richmond Road, Richmond...   \n21  107/4, Pattanduru Agrahara Road, Near ITPL Gat...   \n6   21, Ground Floor, B.H.C.S.L Layout, Stage 2, B...   \n11  Hotel Ekaa, 52, Kudlu Gate, Hosur Main Road, N...   \n10  Octave Hotel & Spa, 14, Kailkondanahalli Villa...   \n24  95/3, Kote M.R Plaza, Outer Ring Road, Maratha...   \n20  95/3, Kote M.R Plaza, Outer Ring Road, Maratha...   \n22  1, Kathriguppe Main Road, 3rd Stage, Banashank...   \n\n                                             cuisines  Mean Rating  \\\n23          Continental, Asian, Italian, North Indian         4.74   \n30                            Continental, BBQ, Salad         4.67   \n27  Continental, Mediterranean, North Indian, Chin...         4.45   \n14    Continental, Finger Food, North Indian, Chinese         4.22   \n18                 Continental, Italian, North Indian         4.10   \n0                         Chinese, North Indian, Thai         3.97   \n2                  North Indian, Chinese, Street Food         3.71   \n5                      North Indian, Chinese, Biryani         3.71   \n25                           Biryani, Chinese, Andhra         3.58   \n16                 North Indian, Continental, Italian         3.45   \n26                        Chinese, North Indian, Cafe         3.45   \n21             North Indian, Chinese, Andhra, Biryani         3.32   \n6               North Indian, Chinese, Fast Food, BBQ         3.19   \n11    North Indian, Chinese, Continental, Mangalorean         2.81   \n10                              North Indian, Chinese         2.55   \n24                              North Indian, Chinese         2.03   \n20                              North Indian, Chinese         2.03   \n22                                       North Indian         1.90   \n\n    online_order   cost  \n23         False    1.0  \n30         False    1.5  \n27          True    1.6  \n14          True    1.2  \n18          True    1.4  \n0           True  800.0  \n2           True  800.0  \n5           True  550.0  \n25          True  500.0  \n16         False  900.0  \n26         False    1.0  \n21          True  700.0  \n6           True  600.0  \n11          True  900.0  \n10         False  700.0  \n24          True    1.2  \n20         False    1.2  \n22          True  500.0  ",
      "text/html": "<div>\n<style scoped>\n    .dataframe tbody tr th:only-of-type {\n        vertical-align: middle;\n    }\n\n    .dataframe tbody tr th {\n        vertical-align: top;\n    }\n\n    .dataframe thead th {\n        text-align: right;\n    }\n</style>\n<table border=\"1\" class=\"dataframe\">\n  <thead>\n    <tr style=\"text-align: right;\">\n      <th></th>\n      <th>name</th>\n      <th>address</th>\n      <th>cuisines</th>\n      <th>Mean Rating</th>\n      <th>online_order</th>\n      <th>cost</th>\n    </tr>\n  </thead>\n  <tbody>\n    <tr>\n      <th>23</th>\n      <td>Tbc Sky Lounge</td>\n      <td>Astra Hotel, 2795, 27th Main, Sector 1, HSR, B...</td>\n      <td>Continental, Asian, Italian, North Indian</td>\n      <td>4.74</td>\n      <td>False</td>\n      <td>1.0</td>\n    </tr>\n    <tr>\n      <th>30</th>\n      <td>Communiti</td>\n      <td>67 &amp; 68, Brigade Solitaire, Opposite to Advait...</td>\n      <td>Continental, BBQ, Salad</td>\n      <td>4.67</td>\n      <td>False</td>\n      <td>1.5</td>\n    </tr>\n    <tr>\n      <th>27</th>\n      <td>Brooks And Bonds Brewery</td>\n      <td>4, 100 Feet Road, Koramangala 5th Block, Banga...</td>\n      <td>Continental, Mediterranean, North Indian, Chin...</td>\n      <td>4.45</td>\n      <td>True</td>\n      <td>1.6</td>\n    </tr>\n    <tr>\n      <th>14</th>\n      <td>Crawl Street</td>\n      <td>77/A, 4th Floor Floor, Jyoti Nivas College Roa...</td>\n      <td>Continental, Finger Food, North Indian, Chinese</td>\n      <td>4.22</td>\n      <td>True</td>\n      <td>1.2</td>\n    </tr>\n    <tr>\n      <th>18</th>\n      <td>Hoot</td>\n      <td>2034/69, Block 2, Kaikondrahalli, Varthur Hobl...</td>\n      <td>Continental, Italian, North Indian</td>\n      <td>4.10</td>\n      <td>True</td>\n      <td>1.4</td>\n    </tr>\n    <tr>\n      <th>0</th>\n      <td>Spice Elephant</td>\n      <td>2nd Floor, 80 Feet Road, Near Big Bazaar, 6th ...</td>\n      <td>Chinese, North Indian, Thai</td>\n      <td>3.97</td>\n      <td>True</td>\n      <td>800.0</td>\n    </tr>\n    <tr>\n      <th>2</th>\n      <td>Atithi</td>\n      <td>219/2, 1st Floor, 9th Main, 15th A Cross, 6th ...</td>\n      <td>North Indian, Chinese, Street Food</td>\n      <td>3.71</td>\n      <td>True</td>\n      <td>800.0</td>\n    </tr>\n    <tr>\n      <th>5</th>\n      <td>Cinnamon</td>\n      <td>78, Ground Floor, Right Wing, 11th Main, 14th ...</td>\n      <td>North Indian, Chinese, Biryani</td>\n      <td>3.71</td>\n      <td>True</td>\n      <td>550.0</td>\n    </tr>\n    <tr>\n      <th>25</th>\n      <td>Pallavi Restaurant</td>\n      <td>BMTC Bus Depot, 1st Floor, Hosur Main Road, El...</td>\n      <td>Biryani, Chinese, Andhra</td>\n      <td>3.58</td>\n      <td>True</td>\n      <td>500.0</td>\n    </tr>\n    <tr>\n      <th>16</th>\n      <td>Nouvelle Garden</td>\n      <td>The Ambient Turret, 35/A, 1st Main Road, 3rd P...</td>\n      <td>North Indian, Continental, Italian</td>\n      <td>3.45</td>\n      <td>False</td>\n      <td>900.0</td>\n    </tr>\n    <tr>\n      <th>26</th>\n      <td>Cafe @ Elanza</td>\n      <td>The Elanza Hotel, 88/2 Richmond Road, Richmond...</td>\n      <td>Chinese, North Indian, Cafe</td>\n      <td>3.45</td>\n      <td>False</td>\n      <td>1.0</td>\n    </tr>\n    <tr>\n      <th>21</th>\n      <td>The Diner</td>\n      <td>107/4, Pattanduru Agrahara Road, Near ITPL Gat...</td>\n      <td>North Indian, Chinese, Andhra, Biryani</td>\n      <td>3.32</td>\n      <td>True</td>\n      <td>700.0</td>\n    </tr>\n    <tr>\n      <th>6</th>\n      <td>Marwa Restaurant</td>\n      <td>21, Ground Floor, B.H.C.S.L Layout, Stage 2, B...</td>\n      <td>North Indian, Chinese, Fast Food, BBQ</td>\n      <td>3.19</td>\n      <td>True</td>\n      <td>600.0</td>\n    </tr>\n    <tr>\n      <th>11</th>\n      <td>Melange - Hotel Ekaa</td>\n      <td>Hotel Ekaa, 52, Kudlu Gate, Hosur Main Road, N...</td>\n      <td>North Indian, Chinese, Continental, Mangalorean</td>\n      <td>2.81</td>\n      <td>True</td>\n      <td>900.0</td>\n    </tr>\n    <tr>\n      <th>10</th>\n      <td>Flavours - Octave Hotel &amp; Spa</td>\n      <td>Octave Hotel &amp; Spa, 14, Kailkondanahalli Villa...</td>\n      <td>North Indian, Chinese</td>\n      <td>2.55</td>\n      <td>False</td>\n      <td>700.0</td>\n    </tr>\n    <tr>\n      <th>24</th>\n      <td>Paprica</td>\n      <td>95/3, Kote M.R Plaza, Outer Ring Road, Maratha...</td>\n      <td>North Indian, Chinese</td>\n      <td>2.03</td>\n      <td>True</td>\n      <td>1.2</td>\n    </tr>\n    <tr>\n      <th>20</th>\n      <td>Paprica</td>\n      <td>95/3, Kote M.R Plaza, Outer Ring Road, Maratha...</td>\n      <td>North Indian, Chinese</td>\n      <td>2.03</td>\n      <td>False</td>\n      <td>1.2</td>\n    </tr>\n    <tr>\n      <th>22</th>\n      <td>Dal Tadkaa</td>\n      <td>1, Kathriguppe Main Road, 3rd Stage, Banashank...</td>\n      <td>North Indian</td>\n      <td>1.90</td>\n      <td>True</td>\n      <td>500.0</td>\n    </tr>\n  </tbody>\n</table>\n</div>"
     },
     "execution_count": 76,
     "metadata": {},
     "output_type": "execute_result"
    }
   ],
   "source": [
    "recommend('Spice Elephant')"
   ]
  },
  {
   "cell_type": "code",
   "execution_count": 77,
   "metadata": {
    "ExecuteTime": {
     "end_time": "2024-01-27T12:20:17.186325200Z",
     "start_time": "2024-01-27T12:20:16.306812Z"
    }
   },
   "outputs": [
    {
     "data": {
      "text/plain": "['Jalsa',\n 'Spice Elephant',\n 'San Churro Cafe',\n 'Addhuri Udupi Bhojana',\n 'Grand Village',\n 'Timepass Dinner',\n 'Onesta',\n 'Penthouse Cafe',\n 'Smacznego',\n 'Cafã\\x83Â\\x83Ã\\x82Â\\x83Ã\\x83Â\\x82Ã\\x82Â\\x83Ã\\x83Â\\x83Ã\\x82Â\\x82Ã\\x83Â\\x82Ã\\x82Â© Down The Alley',\n 'Cafe Shuffle',\n 'The Coffee Shack',\n 'Caf-Eleven',\n 'San Churro Cafe',\n 'Cafe Vivacity',\n 'Catch-Up-Ino',\n \"Kirthi'S Biryani\",\n 'T3H Cafe',\n 'The Vintage Cafe',\n 'Woodee Pizza',\n 'My Tea House',\n \"Srinathji'S Cafe\",\n 'Redberrys',\n 'Foodiction',\n 'Ovenstory Pizza',\n 'Faasos',\n 'Behrouz Biryani',\n 'Szechuan Dragon',\n 'Empire Restaurant',\n 'Chaatimes',\n \"Mcdonald'S\",\n \"Domino'S Pizza\",\n 'Onesta',\n 'Hotboxit',\n 'Kitchen Garden',\n 'Recipe',\n 'Beijing Bites',\n 'Tasty Bytes',\n 'Corner House Ice Cream',\n 'Biryanis And More',\n 'Roving Feast',\n 'Freshmenu',\n 'Wamama',\n 'Peppy Peppers',\n 'Goa 0 Km',\n '1947',\n 'Kabab Magic',\n 'Gustoes Beer House',\n 'The Biryani Cafe',\n 'Rolls On Wheels',\n 'Sri Guru Kottureshwara Davangere Benne Dosa',\n 'Upahar Sagar',\n 'Frozen Bottle',\n 'Meghana Foods',\n 'Nandhini Deluxe',\n \"Vi Ra'S Bar And Restaurant\",\n 'Chatar Patar',\n 'Polar Bear',\n \"Kidambi'S Kitchen\",\n 'Mane Thindi',\n 'Floured-Baked With Love',\n 'Bengaluru Coffee House',\n 'Anna Kuteera',\n 'Darbar',\n 'Sri Udupi Food Hub',\n 'House Of Kebabs',\n 'Roll N Rock',\n 'Box8- Desi Meals',\n 'Kfc',\n 'Roll Over',\n 'Imperial Restaurant',\n 'Wahab',\n 'Canton',\n 'The Blue Wagon - Kitchen',\n 'Patio 805',\n 'Lassi Corner',\n 'Sagar Deluxe',\n 'Energy Addaa',\n 'Tandoori Knight',\n 'Dev Sagar - Food Street',\n 'Mitraa Da Pizza',\n 'Grazers',\n 'Shakes Theory',\n '@Italy',\n 'Old Mumbai Ice Cream',\n 'Donne Biriyani House',\n \"Kedia'S Fun Food\",\n 'Just Shawarma',\n 'Mini Punjabi Dhaba',\n 'Cafã\\x83Â\\x83Ã\\x82Â\\x83Ã\\x83Â\\x82Ã\\x82Â\\x83Ã\\x83Â\\x83Ã\\x82Â\\x82Ã\\x83Â\\x82Ã\\x82Â© Down The Alley',\n 'Gokul Veg',\n 'Olive - Era',\n 'Gama Gama',\n 'The Vintage Cafe',\n 'Pizza Hut',\n 'Mangalore Pearl',\n 'Twiststick House',\n 'Cool Corner',\n 'Pizza Mane',\n 'Dal Tadkaa',\n 'Chutney Chang',\n 'Mystique Palate',\n 'Thamboola',\n 'Castle Rock',\n 'Vietnamese Kitchen',\n 'Smacznego',\n 'Toscano',\n 'Stoned Monkey',\n 'Central Jail Restaurant',\n 'Bella',\n 'New Prashanth Hotel',\n 'Karma Kaapi',\n \"Tiwari'S\",\n 'Pizza Stop',\n \"Biggies Burger 'N' More\",\n \"Srinathji'S Cafe\",\n \"Kollapuri'S\",\n 'Rs Shiv Sagar',\n 'Harshi Super Sandwich',\n 'Ugadi',\n 'Subway',\n 'The Lassi Park',\n 'A2B - Adyar Ananda Bhavan',\n 'Srikrishna Bhavan',\n 'Timepass Dinner',\n 'Green Gardenia',\n 'J Spice',\n 'Hatti Kaapi',\n 'Upahara Darshini',\n 'The Chaat Shop',\n 'My Tea House',\n 'Samskruti - Sanman Gardenia',\n 'Chumma Delicious',\n 'New Prashanth Hotel',\n 'Dwaraka Grand',\n 'Gufha - The President Hotel',\n 'Cafe Vivacity',\n 'Mojo Pizza - 2X Toppings',\n 'South Kitchen',\n 'Chung Wah',\n 'Prems Graama Bhojanam',\n 'Java City',\n 'Kamat Bugle Rock',\n 'Woodee Pizza',\n 'Puliyogare Point',\n 'Bangalore Agarwal Bhavan',\n 'Rustic Stove',\n 'De Thaali',\n 'Spice Elephant',\n 'Matru Sagar',\n 'Sea Spice By 7 Star',\n 'Desi Dawat',\n 'Cafe Aira',\n 'Penthouse Cafe',\n 'Mast Punjabi',\n 'South Grand',\n 'Catch-Up-Ino',\n 'The Pizzeria',\n 'Ruchis Point',\n 'Firangi Bake',\n 'The Royal Corner - Pai Viceroy',\n 'Hara Fine Dine',\n 'Chocoberry',\n 'Waffle-A-Go Go',\n 'Cross Road Cafe',\n 'Bakers Town',\n 'Ivy',\n 'The Airos',\n 'Chai Kraft',\n \"Kirthi'S Biryani\",\n 'The Trundle',\n 'The Krishna Grand Xpress',\n 'Udupi Grand',\n 'Little Cafe',\n '1980S Games Cafe',\n 'Kadala Tarangaa',\n 'As On Fire',\n 'Curry Leaves',\n 'Magic Meals',\n 'Desi Cream Junction',\n 'Eat Repeat',\n 'Salut',\n \"Sandwich Mama'S And Frozen Monster\",\n 'Food Springs',\n \"Chung'S Chinese Corner\",\n 'Eurasia Pasta And Barbeque By Little Italy',\n 'Goli Vada Pav No. 1',\n \"Ragoo'S\",\n 'Pure & Natural',\n 'Maiyas',\n 'Sip N Dine',\n 'Cafe Mondo',\n 'Jalpaan',\n \"Kataria'S Pakwan\",\n 'Juicy Momos',\n 'Amande Patisserie',\n 'Anand Sweets And Savouries',\n 'Chicken Hunt',\n 'Swadesh Tadka',\n 'Cane-O-La',\n 'New Biryani Mane',\n 'Upahara Darshini',\n 'Karnataka Bhel House',\n 'Sreeraj Lassi Bar',\n \"Bunt'S Biriyani Palace\",\n 'Chai Point',\n 'Janahaar',\n 'Redberrys',\n 'Utsav',\n 'The Spice Saga',\n 'Jalsa',\n 'Subz',\n 'Cafe Shuffle',\n 'Mint And Mustard',\n 'Punjabi Raswada',\n \"Vinny'S\",\n \"Kapoor'S Cafe\",\n 'Sukh Sagar',\n 'Andhra Ruchulu',\n 'Steaming Mugs',\n 'San Churro Cafe',\n 'Rajathadri Food Fort',\n 'Brew Meister',\n 'Rasoi',\n 'Mr. Singh Da Dhaba',\n 'Ayodhya Upachar',\n 'Biriyani Mane',\n 'Cafe Ajfan',\n 'Brundhavana Food Point',\n 'Slv Corner Restaurant',\n 'The Krishna Grand',\n 'Roti Ghar',\n 'The Coffee Shack',\n 'Baisakhi',\n 'Corner House Ice Cream',\n 'Poonam Sweets',\n 'Old Mumbai Ice Cream',\n 'Polar Bear',\n 'San Churro Cafe',\n \"Kirthi'S Biryani\",\n 'Stoned Monkey',\n 'Floured-Baked With Love',\n 'Waffle-A-Go Go',\n 'Sri Venkateshwara Sweet Meat Stall',\n 'Redberrys',\n 'Amande Patisserie',\n 'A2B Veg - Adyar Ananda Bhavan',\n 'The Krishna Grand',\n 'Sea Spice By 7 Star',\n 'Mini Punjabi Dhaba',\n 'Onesta',\n 'Wamama',\n 'Jalsa',\n \"Vinny'S\",\n 'Jcubez',\n 'Gustoes Beer House',\n 'Penthouse Cafe',\n 'Spice Elephant',\n 'Smacznego',\n 'Cafã\\x83Â\\x83Ã\\x82Â\\x83Ã\\x83Â\\x82Ã\\x82Â\\x83Ã\\x83Â\\x83Ã\\x82Â\\x82Ã\\x83Â\\x82Ã\\x82Â© Down The Alley',\n 'Cafe Shuffle',\n 'The Coffee Shack',\n 'Peppy Peppers',\n 'Anna Kuteera',\n 'Szechuan Dragon',\n '1947',\n 'Caf-Eleven',\n 'Thamboola',\n 'San Churro Cafe',\n 'Cafe Vivacity',\n 'Chung Wah',\n 'Vietnamese Kitchen',\n 'Catch-Up-Ino',\n \"Kirthi'S Biryani\",\n 'T3H Cafe',\n 'Srikrishna Bhavan',\n 'Dal Tadkaa',\n 'The Vintage Cafe',\n 'Green Gardenia',\n 'Kadala Tarangaa',\n \"Vi Ra'S Bar And Restaurant\",\n 'Nandhini Deluxe',\n 'J Spice',\n 'Swadesh Tadka',\n \"Iyer'S Tiffin Centre\",\n 'Darbar',\n 'Beijing Bites',\n 'The Pizzeria',\n 'As On Fire',\n 'Pizza Hut',\n 'New Prashanth Hotel',\n 'Taaza Thindi',\n 'Ayodhya Upachar',\n 'Roving Feast',\n 'Kfc',\n 'Gama Gama',\n \"Mcdonald'S\",\n 'Sri Laxmi Venkateshwara Coffee Bar',\n 'Messy Bowl',\n 'Janahaar',\n 'Chumma Delicious',\n 'Bengaluru Coffee House',\n 'Foodiction',\n 'The Biryani Cafe',\n 'Addhuri Udupi Bhojana',\n 'Subway',\n 'Hotel Mangala',\n 'Slv Swadishta',\n 'Upahar Sagar',\n \"Domino'S Pizza\",\n 'New Sagar Fast Food',\n 'Chicken Hunt',\n 'Pizza Stop',\n 'Faasos',\n 'Rasoi',\n 'Slv Refreshment',\n 'Chatar Patar',\n \"Kidambi'S Kitchen\",\n 'Tandoori Knight',\n 'Utsav',\n 'Mane Thindi',\n 'Juicy Momos',\n 'Donne Biriyani House',\n 'Matru Sagar',\n 'Kavali',\n \"Bunt'S Biriyani Palace\",\n 'Ranganna Military Hotel',\n 'Roti Ghar',\n 'Grand Village',\n 'Vidyarthi Bhavan',\n 'Bharjari Oota',\n 'Gokul Veg',\n 'Slv Corner Restaurant',\n 'Timepass Dinner',\n 'Baisakhi',\n 'Eat Repeat',\n 'Sri Guru Kottureshwara Davangere Benne Dosa',\n \"Srinathji'S Cafe\",\n 'Soho Bar & Grill',\n \"Kollapuri'S\",\n 'Bhavani Restaurant',\n 'Puliyogare Point',\n 'Zephyr',\n 'Redberrys',\n 'Hotel Dwarka',\n 'Ma-Arya Family Restaurant',\n 'A2B - Adyar Ananda Bhavan',\n \"Ragoo'S\",\n 'Imperial Restaurant',\n 'Udupi Sri Krishna Bhavan',\n 'Curry Leaves',\n 'Goli Vada Pav No. 1',\n 'Ice Thunder',\n 'South Kitchen',\n 'Upahara Darshini',\n 'Mahalaxmi Tiffin Room',\n 'Sandwichwallas',\n 'Udupi Grand',\n 'Castle Rock',\n 'Kamat Bugle Rock',\n 'Basavanagudi Mylari',\n 'Rs Shiv Sagar',\n 'Pramukh Family Restaurant',\n 'Chaatimes',\n 'Vybhava',\n 'Shree Venkateshwara North Karnataka Hotel',\n 'Harshi Super Sandwich',\n 'Belly Squad Food Truck',\n 'Jcubez',\n 'Gustoes Beer House',\n \"Vi Ra'S Bar And Restaurant\",\n 'Darbar',\n 'Soho Bar & Grill',\n 'Deja Vu Resto Bar',\n 'Fattoush',\n 'Empire Restaurant',\n 'Abhiruchi Hotel',\n 'Barbeque Nation',\n 'Sattvam',\n '24Th Main',\n 'Zaitoon',\n 'Oye Amritsar',\n 'Melt - Eden Park',\n 'Spice Code',\n 'The Onyx - The Hhi Select Bengaluru',\n 'Sankranthi Veg Restaurant',\n 'Cafe Kabana',\n 'Butterly',\n 'Black Mug Cafe',\n '#Refuel',\n 'Wafl',\n 'Vaho Kafe & Pressery',\n 'Dreamcatcher',\n 'Cafe Arabica',\n 'Kalmane Koffees',\n 'Brews N Bites',\n 'Slate Cafe',\n 'Dialogues',\n 'Mudpipe Cafe',\n 'Tab - Take A Break',\n \"Biggies Burger 'N' More\",\n 'Onesta',\n 'Cafe Potpourri',\n 'Vinaya Coffee Moments',\n 'Cuppa',\n 'Skytouch Le Cafe',\n 'Woodee Pizza',\n 'Eat.Fit',\n 'Sai Abhiruchi',\n 'Capsicum Family Restaurant',\n 'Easy Bites',\n 'Hiyar Majhe Kolkata',\n 'Sri Lakshmi Dhaba',\n 'Xo Belgian Waffle',\n 'Swadista Aahar',\n 'Al-Bek',\n \"Aniram'S\",\n 'Punjabi Nawabi',\n 'Swad Punjab Da',\n 'Box8- Desi Meals',\n 'Roti Wala',\n 'Midnight Mania',\n 'Kitchens@Jp Nagar',\n 'Krishna Kuteera',\n 'Apna Punjab',\n 'Paratha Junction',\n 'Nellore Bhojanam',\n 'Momoz',\n 'Kalingas',\n 'Kanteen The Eatery',\n 'Kullad Cafe',\n 'Donne Biriyani House',\n 'Litti Twist',\n 'Freshmenu',\n 'Shanthi Sagar',\n 'Cakebuy',\n 'Five Star Chicken',\n 'Corner House Ice Cream',\n 'Fattoush',\n 'Behrouz Biryani',\n 'Abhiruchi Hotel',\n 'Hind Ka Chulah',\n 'Bohra Bohra Cafã\\x83Â\\x83Ã\\x82Â\\x83Ã\\x83Â\\x82Ã\\x82Â\\x83Ã\\x83Â\\x83Ã\\x82Â\\x82Ã\\x83Â\\x82Ã\\x82Â©',\n 'Pizza Hut',\n 'Subway',\n 'Biryani Durbar',\n 'Mahesh Friends Food Center',\n 'Kabab Magic',\n 'Burger King',\n \"Dadi'S Dum Biryani\",\n 'Alankrutha',\n 'Paradise',\n 'Andhra Ruchulu',\n 'Adithya',\n 'Cheesiano Pizza',\n 'Kfc',\n \"Dande'S Hyderabad Biryani\",\n 'Onesta',\n 'Upahara Bhavan',\n 'Shuddh Desi Khana',\n 'Sankranthi Veg Restaurant',\n 'Aramane Donne Biriyani',\n 'Cafe Potpourri',\n \"Mani'S Dum Biryani\",\n 'Amontron',\n 'Birinz',\n 'Just Shawarma',\n 'Hyderabadi Bawarchi',\n 'Fish Chain',\n 'Prasiddhi Food Corner',\n 'Hyderabad Biryaani House',\n \"Galito'S\",\n 'Rajdhani Thali Restaurant',\n 'Phew (Play Hard Eat Wild)',\n 'Chicken County Grand',\n 'Roll Over',\n 'Savoury - Sea Shell Restaurant',\n 'Firangi Bake',\n 'Zaitoon',\n 'Kundana',\n 'The Shawarma Shop',\n 'Faasos',\n 'Punjabi Food Corner',\n 'Mealer.In',\n 'Pathaan Sir',\n 'Cold Stone Creamery',\n 'Amritsari Kulcha Land',\n 'Chokha Chowka',\n 'Gorbandh',\n 'Grills & Rolls',\n 'Bathinda Junction',\n 'Stories',\n 'Kanti Sweets',\n 'Seasons',\n 'Chung Wah',\n 'Marwa Restaurant',\n 'Shanghai Court',\n 'Bhojohori Manna',\n 'Hunger Bee',\n 'Yum In My Tum',\n 'Biryani Miya',\n 'Chulha Chauki Da Dhaba',\n 'Dreamcatcher',\n \"Magix'S Parattha Roll\",\n 'Elegant Dining',\n 'Waffle Head',\n 'Basmati Delights',\n 'Samosa Singh',\n 'Cravings',\n 'Matka',\n 'Punjabi Swag',\n 'Taco Bell',\n \"Mother'S Rasoi\",\n 'Dosa Bazaar',\n 'The Bong Palate',\n 'Upahara Darshini',\n 'Bikaner Jn',\n 'Crunch Pizzas',\n 'Kakal-Kai Ruchi',\n 'Calorie Express',\n 'Bangalore Box',\n 'Ovenstory Pizza',\n 'Slate Cafe',\n 'Chavadi',\n 'Nanna Munna Paratha House',\n 'Cucumber Town',\n 'Oye Amritsar',\n 'Brewsky',\n 'Chefeana',\n 'Bangaliana',\n 'Gud Dhani',\n \"Mcdonald'S\",\n 'Wafl',\n 'Deejas Kitchen',\n 'Pancuzzi',\n \"Zhang'S - Chinese Restaurant\",\n 'Shagun Sweets & Foods',\n \"Dev'S Gugababa\",\n 'Oogway Express',\n \"Domino'S Pizza\",\n 'Pizza Stop',\n 'The Egg Factory',\n 'Chow San',\n 'Momo Jojo',\n 'Simply Indian',\n \"Rithika'S Kitchen\",\n 'Punjabi Times',\n 'Chai Point',\n 'Cravy Wings',\n 'Funky Punjab',\n 'Punjabi Corner',\n '#Refuel',\n \"Biggies Burger 'N' More\",\n 'Zeeshan',\n 'Ambara Gardenia',\n 'More Pizza',\n 'Butterly',\n 'Crafted Plate',\n \"Shetty'S Kitchen\",\n 'Machali Port',\n 'Garma Garam',\n 'The Coastal Crew By Fujian On 24Th',\n 'Bib - Breakfast In The Box',\n 'Tandoor And Spice',\n 'Rock Stone Ice Cream Factory',\n 'Paratha Plaza',\n 'Namma Kudla',\n 'Wangs Kitchen',\n 'Spice Up',\n 'Tempteys',\n 'Crumb Together',\n 'The Foodyz',\n 'Black Mug Cafe',\n 'Meat And Eat',\n 'Vinaya Coffee Moments',\n 'Nagarjuna',\n 'Laddoos',\n 'New Prashanth Hotel',\n 'Waffle Stories',\n 'Late Night',\n 'Waffle Walle',\n 'Dakshin Cafe',\n 'Shake It Off',\n 'Two Friends Cauldron',\n 'Bun Town',\n 'Pot Biryani',\n 'Mango Tree- The Beer Garden',\n 'The Jade Kitchen',\n 'Drunken Monkey',\n 'Woodee Pizza',\n 'Funky Punjab',\n 'Intalia',\n 'Hotel Aradhana',\n 'The Chervil',\n 'New Royal Treat',\n 'I Cool',\n 'Asha Sweets Centre',\n 'Stoned Monkey',\n 'Vinaya Cafe',\n 'World Of Waffles',\n 'Oottupura Family Restaurant',\n 'Vyanjan',\n \"Watson'S\",\n 'Chicken Man',\n 'Nandhana Palace',\n 'On The Nose',\n 'Udupi Thaja Thindi',\n 'Baba Ka Dhaba',\n 'Natural Ice Cream',\n 'Biriyani Mane',\n \"Churchill'S\",\n 'The Chocolate Room',\n 'Aramane Restaurant',\n 'Bawarchi Inn',\n \"Ruh'S Cafe\",\n 'Mojo Pizza - 2X Toppings',\n 'California Burrito',\n 'Tandoor Garden',\n 'Caffe Pascucci',\n 'Chaitanya Cafe',\n 'Anand Sweets And Savouries',\n 'Berrylicious',\n 'Pappu Da Dhaba',\n 'Smoke - The Sizzler House',\n 'Chung Wah Opus',\n 'Dream A Dozen',\n 'Bread Crumbs Bakery',\n 'Nite Out',\n 'Willys Top Cafe',\n \"Woody'S\",\n 'The Curry Hut Plus',\n 'Brews N Bites',\n 'Skytouch Le Cafe',\n 'Mudpipe Cafe',\n 'Vaho Kafe & Pressery',\n 'Zhangs Classic',\n 'Guru Greens',\n 'D View Cafe',\n 'Flavour Of China',\n 'Kabab Treat',\n 'Cafe Arabica',\n 'Casa Piccosa',\n 'Bake Addiction',\n 'Tongue Twisters',\n 'Vaathsalya Millet Cafe',\n 'Guru Garden',\n 'Brewz Coffee',\n 'Athithi',\n 'Melt - Eden Park',\n 'Sri Bhagya Grand',\n 'Flavorsome Bakes',\n 'Mast Kalandar',\n 'Shiv Sagar',\n 'Coastal Inn',\n 'Bangalir Rannaghar',\n \"Lalchee'S Rasoi\",\n 'Kailash Parbat',\n 'Tandoor Hut',\n 'Zaika Take Away',\n 'Malhar Maharashtrian Cuisine',\n 'Mandi',\n 'Pallavi North Indian Veg Restaurant',\n 'Idly Pidly',\n \"Vasudev Adiga'S\",\n 'Tgi Fridays',\n 'Apsara Ice Cream',\n \"Targaryen'S Kitchen\",\n 'Desi Vibes',\n 'Kulfi & More',\n 'Dal Roti',\n 'Deja Vu Resto Bar',\n 'Status',\n 'Bottle Breacher',\n 'Sattvam',\n 'Kesariya',\n 'Swad Restaurant',\n 'Checkpost',\n 'Nandhini Paradise',\n 'New Kabab Plaza',\n 'Coastal Mama',\n 'Waah Biryani',\n 'Rara Avis',\n 'Baskin Robbins',\n 'Royal Chef Naati Oota',\n 'Flow - Terrace Bar & Grill',\n 'Sree Krishna Kafe',\n 'Dilish Kitchens',\n 'Daily Bread',\n \"Owl'S Kitchen\",\n 'Deccan Spice',\n 'Desi Wok',\n 'Namana Garden',\n 'Andhra Grills',\n 'Petoo',\n 'Night Panda',\n 'Kamat Swaad',\n 'Ishta Cafe',\n 'Cafe Mist',\n 'Fat Chef Biryani Wale',\n 'Natural Ice Cream',\n \"Amma'S Pastries\",\n 'Anand Sweets And Savouries',\n 'Bread Crumbs Bakery',\n 'Butterly',\n 'Cakebuy',\n 'Polar Bear',\n 'World On A Swirl',\n 'Waffle Walle',\n 'Wafl',\n 'Cold Stone Creamery',\n 'Flavorsome Bakes',\n 'Cafe Arabica',\n 'Sweet Truth',\n 'Apsara Ice Cream',\n 'Two Friends Cauldron',\n 'Slate Cafe',\n 'Dream A Dozen',\n 'Roll Over',\n 'Stoned Monkey',\n 'Tab - Take A Break',\n 'Cream Stone',\n 'Berrylicious',\n 'Daily Bread',\n \"Calvin'S\",\n 'Eat.Fit',\n 'Hyderabad Biryaani House',\n 'Seasons',\n 'Simply Indian',\n \"Dande'S Hyderabad Biryani\",\n 'Chung Wah',\n 'Shanghai Court',\n 'Chicken County Grand',\n 'Punjabi Times',\n 'Elegant Dining',\n 'Cafe Kabana',\n \"Dadi'S Dum Biryani\",\n 'Veruthe Oru Thattukada',\n 'Butterly',\n 'Kundana',\n 'Black Mug Cafe',\n '#Refuel',\n 'Savoury - Sea Shell Restaurant',\n 'Vaho Kafe & Pressery',\n 'Kabab Treat',\n 'Dreamcatcher',\n 'Guru Greens',\n 'A2B - Adyar Ananda Bhavan',\n 'Malhar Maharashtrian Cuisine',\n 'Hyderabadi Bawarchi',\n 'Beijing Bites',\n 'Sri Bhagya Grand',\n 'Cafe Arabica',\n 'Kabab Magic',\n 'Drunken Monkey',\n 'Marwa Restaurant',\n 'Chow San',\n 'Guru Garden',\n 'Guru Paradise',\n 'Status',\n 'Athithi',\n 'Zhangs Classic',\n 'Coastal Inn',\n \"Lalchee'S Rasoi\",\n 'Aramane Restaurant',\n 'Tandoor Hut',\n 'Zaika Take Away',\n 'The Curry Hut Plus',\n 'Chai Point',\n 'Upahara Bhavan',\n 'Wangs Kitchen',\n \"Vasudev Adiga'S\",\n 'Ambara Gardenia',\n 'Krishna Kuteera',\n 'California Burrito',\n \"Mcdonald'S\",\n 'Kanteen The Eatery',\n 'Punjabi Nawabi',\n 'Taco Bell',\n 'Purani Dilli By Anand Sweets',\n \"Shetty'S Kitchen\",\n \"Domino'S Pizza\",\n 'Polar Bear',\n 'Cravings',\n 'Burger King',\n 'Kfc',\n 'Ingu Tengu',\n 'World On A Swirl',\n 'Green Onion',\n 'Punjabi Corner',\n 'Cravy Wings',\n 'Garma Garam',\n 'Oottupura Family Restaurant',\n 'Pot Biryani',\n 'Subway',\n 'Shuddh Desi Khana',\n 'Hunger Bee',\n 'Just Shawarma',\n 'Faasos',\n \"Tiwari'S\",\n 'Idly Pidly',\n 'Pizza Hut',\n 'Bangaliana',\n 'Ishta Cafe',\n 'Brews N Bites',\n \"Mother'S Rasoi\",\n 'Smoke - The Sizzler House',\n 'New Royal Treat',\n 'Panchami Garden',\n 'Shiv Sagar',\n 'Bangalir Rannaghar',\n 'Hotel Aradhana',\n 'Chefeana',\n 'Hind Ka Chulah',\n 'Paratha Junction',\n 'Intalia',\n 'Nellore Bhojanam',\n 'Hakuna Matata',\n 'Barbeque Nation',\n 'Sattvam',\n 'Brewsky',\n 'Three Dots & A Dash',\n 'Hunger Camp',\n 'Kesariya',\n '24Th Main',\n '55 Wall Street',\n 'Zaitoon',\n 'Checkpost',\n 'Crumb Together',\n \"Mani'S Dum Biryani\",\n 'The Coastal Crew By Fujian On 24Th',\n 'Two Friends Cauldron',\n 'Bottle Breacher',\n 'Tandoor And Spice',\n \"Watson'S\",\n 'The Chervil',\n 'Casa Piccosa',\n 'Mango Tree- The Beer Garden',\n 'Caffe Pascucci',\n 'Nandhini Paradise',\n 'Oye Amritsar',\n 'Machali Port',\n 'Melt - Eden Park',\n 'Vaathsalya Millet Cafe',\n 'Oogway Express',\n \"Zhang'S - Chinese Restaurant\",\n 'The Egg Factory',\n 'Coastal Mama',\n 'Parkview',\n 'Kakal-Kai Ruchi',\n 'Waah Biryani',\n 'Danapani',\n 'Inchara',\n 'Kabab Mehal',\n 'Adithya',\n 'Mudpipe Cafe',\n 'Pallavi North Indian Veg Restaurant',\n 'Tab - Take A Break',\n 'Chatori Gali',\n 'Onesta',\n 'Royal Chef Naati Oota',\n 'White Horse',\n 'Spice Code',\n 'Coconut Grove',\n 'Cafe Potpourri',\n 'Flow - Terrace Bar & Grill',\n 'Funky Punjab',\n 'Vinaya Coffee Moments',\n 'The Onyx - The Hhi Select Bengaluru',\n 'Spice Up',\n 'Zeeshan',\n 'Cuppa',\n 'Mast Kalandar',\n 'New Prashanth Hotel',\n 'Deccan Spice',\n 'Andhra Grills',\n 'Petoo',\n 'Chung Wah Opus',\n 'Skytouch Le Cafe',\n 'Grills & Rolls',\n 'Chaitanya Cafe',\n 'Sree Krishna Kafe',\n 'Pizza Stop',\n 'Donne Biriyani House',\n \"Calvin'S\",\n 'Five Star Chicken',\n 'Bangalore Box',\n 'Gud Dhani',\n 'Bathinda Junction',\n 'New Kabab Plaza',\n 'Hiyar Majhe Kolkata',\n 'Sankranthi Veg Restaurant',\n 'Swad Restaurant',\n 'Litti Twist',\n 'Kalingas',\n 'Gorbandh',\n 'Nanna Munna Paratha House',\n 'Dilish Kitchens',\n 'Baba Ka Dhaba',\n 'Desi Wok',\n 'Namana Garden',\n 'Mahesh Friends Food Center',\n 'Amontron',\n 'Sri Lakshmi Dhaba',\n 'Deja Vu Resto Bar',\n 'Chavadi',\n 'Tgi Fridays',\n 'Simply Indian',\n 'Hakuna Matata',\n 'Brewsky',\n '55 Wall Street',\n 'Crumb Together',\n 'Bottle Breacher',\n \"Watson'S\",\n 'Casa Piccosa',\n 'Coconut Grove',\n 'Bangalore Box',\n 'Subz',\n 'Grand Village',\n 'Timepass Dinner',\n '1947',\n 'Chutney Chang',\n 'Empire Restaurant',\n 'Jalsa',\n 'San Churro Cafe',\n 'Tree Top',\n 'Samskruti - Sanman Gardenia',\n 'The Sofraah Kebabs & Kurries - Eden Park Restaurants',\n 'The Yellow Chilli',\n 'Tea Villa Cafe',\n 'Cafe Cosy',\n 'Onesta',\n 'Steaming Mugs',\n \"Srinathji'S Cafe\",\n 'Redberrys',\n 'Cafe Aira',\n 'Cafe Mondo',\n '1980S Games Cafe',\n 'Go Native',\n 'Alchemy Coffee Roasters',\n 'Rooftop Cafe',\n 'Enerjuvate Studio & Cafe',\n 'The Caramelts Cafe',\n 'Slimsins Cafe',\n 'Cafe Ajfan',\n 'Cafe Shuffle',\n 'Krazzy Folds',\n 'Penthouse Cafe',\n 'The Blue Wagon - Kitchen',\n 'Smacznego',\n 'The Airos',\n 'Starbucks',\n 'San Churro Cafe',\n 'Cafe Vivacity',\n \"Kirthi'S Biryani\",\n 'La Grande Cafe',\n '4Th Tea Block',\n 'Grazers',\n 'Cuppa',\n 'Brews N Bites',\n 'Java City',\n 'People Tree Cafe',\n 'Eat.Fit',\n 'Freshmenu',\n 'Leon Grill',\n 'Dr. Bubbles',\n 'Empire Restaurant',\n 'Anna Kuteera',\n 'Energy Addaa',\n 'Dev Sagar - Food Street',\n 'Kfc',\n 'Bengaluru Coffee House',\n 'Shanmukha',\n 'Bhukkhad Baba',\n 'House Of Kebabs',\n 'Subway',\n 'Mysuru Coffee Thindi',\n 'Smoke-A-Pot',\n 'Chaatimes',\n 'Wamama',\n 'Shanthi Sagar',\n 'Just Shawarma',\n 'Smacznego',\n 'Kabab Magic',\n 'Lassi Corner',\n 'The Biriyani Pedia',\n 'Paratha Junction',\n 'Sl Vadapav',\n 'Adithya',\n 'Paradise',\n 'Biryanis And More',\n \"Wazir'S\",\n 'Krispy Kreme',\n 'Roti Ghar',\n 'Onesta',\n 'Keventers',\n 'Polar Bear',\n 'Behrouz Biryani',\n 'Puliyogare Point',\n \"Kedia'S Fun Food\",\n 'Sri Udupi Food Hub',\n ...]"
     },
     "execution_count": 77,
     "metadata": {},
     "output_type": "execute_result"
    }
   ],
   "source": [
    "rs_cuisines=list(zomato['name'])\n",
    "rs_cuisines\n"
   ]
  },
  {
   "cell_type": "code",
   "execution_count": 78,
   "metadata": {
    "ExecuteTime": {
     "end_time": "2024-01-27T12:22:37.075161100Z",
     "start_time": "2024-01-27T12:20:16.328391700Z"
    }
   },
   "outputs": [],
   "source": [
    "import pandas as pd\n",
    "from sklearn.feature_extraction.text import TfidfVectorizer\n",
    "from sklearn.neighbors import NearestNeighbors\n",
    "\n",
    "# Assuming df_percent is your DataFrame\n",
    "# Creating tf-idf matrix\n",
    "tfidf = TfidfVectorizer(analyzer='word', ngram_range=(1, 2), min_df=0.0, stop_words='english')\n",
    "tfidf_matrix = tfidf.fit_transform(df_percent['reviews_list'])\n",
    "\n",
    "# Applying k-NN algorithm\n",
    "knn_model = NearestNeighbors(n_neighbors=10, metric='cosine')\n",
    "knn_model.fit(tfidf_matrix)\n",
    "\n",
    "def recommend_knn(name, knn_model=knn_model, tfidf_matrix=tfidf_matrix, df=df_percent):\n",
    "    try:\n",
    "        idx_candidates = indices[indices == name].index\n",
    "\n",
    "        if not idx_candidates.empty:\n",
    "            idx = idx_candidates[0]\n",
    "        else:\n",
    "            print(f'Restaurant \"{name}\" not found.')\n",
    "            return None\n",
    "\n",
    "        # Find the TF-IDF vector for the specified restaurant\n",
    "        restaurant_tfidf = tfidf_matrix[idx]\n",
    "\n",
    "        # Use k-NN to find the nearest neighbors\n",
    "        _, top_indexes = knn_model.kneighbors(restaurant_tfidf, n_neighbors=10)\n",
    "\n",
    "        recommend_restaurant = [list(df.index)[each] for each in top_indexes.flatten()]\n",
    "\n",
    "        # Creating the new data set to show similar restaurants\n",
    "        df_new_list = []\n",
    "\n",
    "        for each in recommend_restaurant:\n",
    "            df_temp = df.loc[df.index == each, ['address', 'cuisines', 'Mean Rating', 'online_order', 'cost']].sample()\n",
    "\n",
    "            # Add a new column 'name' with the value of the original index\n",
    "            df_temp['name'] = each\n",
    "            \n",
    "            df_new_list.append(df_temp)\n",
    "\n",
    "        # Concatenate the list of DataFrames into a single DataFrame\n",
    "        df_new = pd.concat(df_new_list, ignore_index=True)\n",
    "\n",
    "        # Reorder columns to have 'name' as the first column\n",
    "        df_new = df_new[['name', 'address', 'cuisines', 'Mean Rating', 'online_order', 'cost']]\n",
    "\n",
    "        # Drop duplicates and sort by Mean Rating\n",
    "        df_new = df_new.drop_duplicates(subset=['name', 'address', 'cuisines', 'Mean Rating','online_order', 'cost'])\n",
    "        df_new = df_new.sort_values(by='Mean Rating', ascending=False).head(1000)\n",
    "\n",
    "        print(f'TOP {len(df_new)} RESTAURANTS LIKE {name} WITH SIMILAR REVIEWS: ')\n",
    "\n",
    "        return df_new\n",
    "    except Exception as e:\n",
    "        print(f'An error occurred: {str(e)}')\n",
    "        return None\n",
    "\n",
    "\n"
   ]
  },
  {
   "cell_type": "code",
   "execution_count": null,
   "metadata": {
    "is_executing": true,
    "ExecuteTime": {
     "start_time": "2024-01-27T12:22:36.554768200Z"
    }
   },
   "outputs": [
    {
     "name": "stdout",
     "output_type": "stream",
     "text": [
      "TOP 2 RESTAURANTS LIKE San Churro Cafe WITH SIMILAR REVIEWS: \n"
     ]
    }
   ],
   "source": [
    "recommend_knn('San Churro Cafe')"
   ]
  },
  {
   "cell_type": "code",
   "execution_count": null,
   "metadata": {
    "is_executing": true
   },
   "outputs": [],
   "source": [
    "recommend('San Churro Cafe')"
   ]
  },
  {
   "cell_type": "code",
   "execution_count": null,
   "metadata": {
    "is_executing": true
   },
   "outputs": [],
   "source": [
    "import pandas as pd\n",
    "from sklearn.feature_extraction.text import TfidfVectorizer\n",
    "from sklearn.neighbors import NearestNeighbors\n",
    "\n",
    "# Assuming df_percent is your DataFrame\n",
    "# Creating tf-idf matrix\n",
    "tfidf = TfidfVectorizer(analyzer='word', ngram_range=(1, 2), min_df=0.0, stop_words='english')\n",
    "tfidf_matrix = tfidf.fit_transform(df_percent['reviews_list'])\n",
    "\n",
    "# Applying k-NN algorithm with Euclidean distance\n",
    "knn_model = NearestNeighbors(n_neighbors=10, metric='euclidean')\n",
    "knn_model.fit(tfidf_matrix)\n",
    "\n",
    "def recommend_knn_euclidean(name, knn_model=knn_model, tfidf_matrix=tfidf_matrix, df=df_percent):\n",
    "    try:\n",
    "        idx_candidates = indices[indices == name].index\n",
    "\n",
    "        if not idx_candidates.empty:\n",
    "            idx = idx_candidates[0]\n",
    "        else:\n",
    "            print(f'Restaurant \"{name}\" not found.')\n",
    "            return None\n",
    "\n",
    "        # Find the TF-IDF vector for the specified restaurant\n",
    "        restaurant_tfidf = tfidf_matrix[idx]\n",
    "\n",
    "        # Use k-NN to find the nearest neighbors with Euclidean distance\n",
    "        _, top_indexes = knn_model.kneighbors(restaurant_tfidf, n_neighbors=10)\n",
    "\n",
    "        recommend_restaurant = [list(df.index)[each] for each in top_indexes.flatten()]\n",
    "\n",
    "        # Creating the new data set to show similar restaurants\n",
    "        df_new_list = []\n",
    "\n",
    "        for each in recommend_restaurant:\n",
    "            df_temp = df.loc[df.index == each, ['address', 'cuisines', 'Mean Rating', 'online_order', 'cost']].sample()\n",
    "\n",
    "            # Add a new column 'name' with the value of the original index\n",
    "            df_temp['name'] = each\n",
    "            \n",
    "            df_new_list.append(df_temp)\n",
    "\n",
    "        # Concatenate the list of DataFrames into a single DataFrame\n",
    "        df_new = pd.concat(df_new_list, ignore_index=True)\n",
    "\n",
    "        # Reorder columns to have 'name' as the first column\n",
    "        df_new = df_new[['name', 'address', 'cuisines', 'Mean Rating', 'online_order', 'cost']]\n",
    "\n",
    "        # Drop duplicates and sort by Mean Rating\n",
    "        df_new = df_new.drop_duplicates(subset=['name', 'address', 'cuisines', 'Mean Rating', 'online_order', 'cost'])\n",
    "        df_new = df_new.sort_values(by='Mean Rating', ascending=False).head(1000)\n",
    "\n",
    "        print(f'TOP {len(df_new)} RESTAURANTS LIKE {name} WITH SIMILAR REVIEWS: ')\n",
    "\n",
    "        return df_new\n",
    "    except Exception as e:\n",
    "        print(f'An error occurred: {str(e)}')\n",
    "        return None\n"
   ]
  },
  {
   "cell_type": "code",
   "execution_count": null,
   "metadata": {
    "is_executing": true
   },
   "outputs": [],
   "source": [
    "zomato.columns"
   ]
  },
  {
   "cell_type": "code",
   "execution_count": null,
   "metadata": {
    "is_executing": true
   },
   "outputs": [],
   "source": [
    "import pandas as pd\n",
    "from sklearn.feature_selection import RFE\n",
    "from sklearn.ensemble import RandomForestRegressor\n",
    "from sklearn.preprocessing import LabelEncoder\n",
    "# Load your dataset\n",
    "df = pd.read_csv(\"Dataset/zomato.csv\")\n",
    "\n",
    "# Extract features (X) and target variable (y)\n",
    "X = zomato[['name','online_order', 'book_table', 'location', 'rest_type', 'cuisines', 'cost']]\n",
    "y = zomato['rate']\n",
    "label_encoder = LabelEncoder()\n",
    "for column in ['name','online_order', 'book_table', 'location', 'rest_type', 'cost','cuisines']:\n",
    "    X[column] = label_encoder.fit_transform(X[column])\n",
    "\n",
    "# Handle missing values or NaNs (you may need a more sophisticated approach)\n",
    "X = X.fillna(0)\n",
    "\n",
    "# Replace RandomForestRegressor with an appropriate model for your task\n",
    "model = RandomForestRegressor()\n",
    "rfe = RFE(model, n_features_to_select=3)  # Choose the desired number of features\n",
    "fit = rfe.fit(X, y)\n",
    "\n",
    "# Print the ranking and support of each feature\n",
    "print(\"Num Features: %s\" % (fit.n_features_))\n",
    "print(\"Selected Features: %s\" % (fit.support_))\n",
    "print(\"Feature Ranking: %s\" % (fit.ranking_))\n",
    "\n",
    "# Get the names of the selected features\n",
    "selected_features = X.columns[fit.support_]\n",
    "print(\"Selected Features: %s\" % (selected_features))"
   ]
  },
  {
   "cell_type": "code",
   "execution_count": null,
   "metadata": {
    "is_executing": true
   },
   "outputs": [],
   "source": [
    "import pandas as pd\n",
    "\n",
    "# Assuming you have already loaded your dataset into df\n",
    "# df = pd.read_csv(\"your_dataset.csv\")\n",
    "\n",
    "# Replace 'your_target_column' with the actual name of your target variable column\n",
    "target_column = 'rate'\n",
    "\n",
    "# Extract relevant columns for analysis\n",
    "relevant_columns = ['name', 'online_order', 'book_table', 'location', 'rest_type', 'cuisines', 'cost', target_column]\n",
    "df_subset = zomato[relevant_columns]\n",
    "# Convert categorical columns to numerical using Label Encoding\n",
    "label_encoder = LabelEncoder()\n",
    "for column in ['name', 'online_order', 'book_table', 'location', 'rest_type','cuisines']:\n",
    "    df_subset[column] = label_encoder.fit_transform(df_subset[column])\n",
    "\n",
    "# Calculate the correlation matrix\n",
    "correlation_matrix = df_subset.corr()\n",
    "print(correlation_matrix)\n",
    "# Get the column names with the highest correlation to the target variable\n",
    "highly_correlated_features = correlation_matrix[target_column].abs().sort_values(ascending=False).index\n",
    "\n",
    "# Print the names of highly correlated features\n",
    "print(f\"Highly Correlated Features with '{target_column}':\")\n",
    "print(highly_correlated_features)\n"
   ]
  },
  {
   "cell_type": "code",
   "execution_count": null,
   "metadata": {
    "is_executing": true
   },
   "outputs": [],
   "source": [
    "def recommendrfe(name, cosine_similarities=cosine_similarities):\n",
    "    try:\n",
    "        idx_candidates = indices[indices == name].index\n",
    "\n",
    "        if not idx_candidates.empty:\n",
    "            idx = idx_candidates[0]\n",
    "        else:\n",
    "            print(f'Restaurant \"{name}\" not found.')\n",
    "            return None\n",
    "\n",
    "        score_series = pd.Series(cosine_similarities[idx]).sort_values(ascending=False)\n",
    "        top30_indexes = list(score_series.iloc[0:31].index)\n",
    "\n",
    "        recommend_restaurant = [list(df_percent.index)[each] for each in top30_indexes]\n",
    "\n",
    "        # Creating the new data set to show similar restaurants\n",
    "        df_new_list = []\n",
    "\n",
    "        for each in recommend_restaurant:\n",
    "            df_temp = df_percent.loc[df_percent.index == each, [ 'cuisines', 'cost','Mean Rating']].sample()\n",
    "\n",
    "            # Add a new column 'name' with the value of the original index\n",
    "            df_temp['name'] = each\n",
    "            \n",
    "            df_new_list.append(df_temp)\n",
    "\n",
    "        # Concatenate the list of DataFrames into a single DataFrame\n",
    "        df_new = pd.concat(df_new_list, ignore_index=True)\n",
    "\n",
    "        # Reorder columns to have 'name' as the first column\n",
    "        df_new = df_new[['name', 'cuisines', 'cost','Mean Rating']]\n",
    "\n",
    "        # Drop duplicates and sort by Mean Rating\n",
    "        df_new = df_new.drop_duplicates(subset=['name','cuisines', 'cost'])\n",
    "        df_new = df_new.sort_values(by='Mean Rating', ascending=False).head(1000)\n",
    "\n",
    "        print(f'TOP {len(df_new)} RESTAURANTS LIKE {name} WITH SIMILAR REVIEWS: ')\n",
    "\n",
    "        return df_new\n",
    "    except Exception as e:\n",
    "        print(f'An error occurred: {str(e)}')\n",
    "        return None\n",
    "\n",
    "# Assuming df_percent is your DataFrame and indices is the indices Series\n",
    "# Make sure to replace these with your actual DataFrame and indices\n",
    "\n",
    "\n"
   ]
  },
  {
   "cell_type": "code",
   "execution_count": null,
   "metadata": {
    "is_executing": true
   },
   "outputs": [],
   "source": [
    "recommendrfe('San Churro Cafe')"
   ]
  },
  {
   "cell_type": "code",
   "execution_count": null,
   "metadata": {
    "is_executing": true
   },
   "outputs": [],
   "source": [
    "recommend('San Churro Cafe')"
   ]
  },
  {
   "cell_type": "code",
   "execution_count": null,
   "metadata": {
    "is_executing": true
   },
   "outputs": [],
   "source": [
    "import matplotlib.pyplot as plt\n",
    "\n",
    "# Sample data\n",
    "models = ['All Features', 'RFE Features', 'Correlation Features']\n",
    "recall_values_U1061 = [0.6, 0.7, 0.85]  # Replace with your actual recall values\n",
    "recall_values_U1106 = [0.5, 0.65, 0.8]\n",
    "recall_values_U1003 = [0.7, 0.75, 0.9]\n",
    "\n",
    "# Plotting\n",
    "plt.figure(figsize=(10, 6))\n",
    "plt.plot(models, recall_values_U1061, marker='o', label='U1061')\n",
    "plt.plot(models, recall_values_U1106, marker='o', label='U1106')\n",
    "plt.plot(models, recall_values_U1003, marker='o', label='U1003')\n",
    "\n",
    "# Adding labels and title\n",
    "plt.xlabel('Models')\n",
    "plt.ylabel('Recall at N')\n",
    "plt.title('Recall at N for Different Models and Users')\n",
    "plt.legend()\n",
    "plt.grid(True)\n",
    "\n",
    "# Display the plot\n",
    "plt.show()\n"
   ]
  },
  {
   "cell_type": "code",
   "execution_count": null,
   "metadata": {
    "is_executing": true
   },
   "outputs": [],
   "source": [
    "import numpy as np\n",
    "from sklearn.metrics import mean_squared_error\n",
    "from math import sqrt\n",
    "\n",
    "# Replace 'actual_ratings' with your actual ratings from the dataset\n",
    "actual_ratings = np.array([4.5, 3.8, 2.5, 4.0, 1.7, 3.0])  # Replace with actual ratings\n",
    "\n",
    "# Replace 'predicted_ratings_cosine' and 'predicted_ratings_corr' with your actual predicted ratings\n",
    "predicted_ratings_cosine = np.array([4.2, 3.9, 2.3, 3.8, 1.5, 2.9])  # Replace with actual predicted ratings for cosine similarity\n",
    "predicted_ratings_corr = np.array([4.1, 3.7, 2.4, 3.9, 1.6, 3.1])  # Replace with actual predicted ratings for correlation features\n",
    "\n",
    "# Calculate RMSE for cosine similarity\n",
    "rmse_cosine = sqrt(mean_squared_error(actual_ratings, predicted_ratings_cosine))\n",
    "print(\"RMSE (Cosine Similarity):\", rmse_cosine)\n",
    "\n",
    "# Calculate RMSE for correlation features\n",
    "rmse_corr = sqrt(mean_squared_error(actual_ratings, predicted_ratings_corr))\n",
    "print(\"RMSE (Correlation Features):\", rmse_corr)\n",
    "import numpy as np\n",
    "from sklearn.metrics import mean_squared_error\n",
    "from math import sqrt\n",
    "from sklearn.feature_selection import RFE\n",
    "from sklearn.linear_model import LinearRegression\n",
    "from sklearn.metrics.pairwise import euclidean_distances\n",
    "\n",
    "# Replace 'actual_ratings' with your actual ratings from the dataset\n",
    "actual_ratings = np.array([4.5, 3.8, 2.5, 4.0, 1.7, 3.0])  # Replace with actual ratings\n",
    "\n",
    "# Replace 'predicted_ratings_euclidean' and 'predicted_ratings_rfe' with your actual predicted ratings\n",
    "predicted_ratings_euclidean = np.array([4.2, 3.9, 2.3, 3.8, 1.5, 2.9])  # Replace with actual predicted ratings for Euclidean Similarity\n",
    "predicted_ratings_rfe = np.array([4.1, 3.7, 2.4, 3.9, 1.6, 3.1])  # Replace with actual predicted ratings for RFE features\n",
    "\n",
    "# Calculate RMSE for Euclidean Similarity\n",
    "distances = euclidean_distances(actual_ratings.reshape(1, -1), predicted_ratings_euclidean.reshape(1, -1))\n",
    "rmse_euclidean = sqrt(np.mean(np.square(distances)))\n",
    "print(\"RMSE (Euclidean Similarity):\", rmse_euclidean)\n",
    "\n",
    "# Create a linear regression model for RFE features\n",
    "model_rfe = LinearRegression()\n",
    "# Assuming 'rfe_features' is the RFE-selected features matrix\n",
    "# Replace 'rfe_features' with your actual RFE-selected features\n",
    "rfe_features = np.array([[1, 2, 3, 4, 5], [2, 3, 4, 5, 6], [3, 4, 5, 6, 7], [4, 5, 6, 7, 8], [5, 6, 7, 8, 9], [6, 7, 8, 9, 10]])\n",
    "model_rfe.fit(rfe_features, actual_ratings)\n",
    "\n",
    "# Make predictions on RFE features\n",
    "predicted_ratings_rfe = model_rfe.predict(rfe_features)\n",
    "\n",
    "# Calculate RMSE for RFE features\n",
    "rmse_rfe = sqrt(mean_squared_error(actual_ratings, predicted_ratings_rfe))\n",
    "print(\"RMSE (RFE Features):\", rmse_rfe)\n",
    "import matplotlib.pyplot as plt\n",
    "\n",
    "# Replace these values with your actual RMSE values\n",
    "rmse_values = [rmse_cosine,  rmse_euclidean, rmse_corr, rmse_rfe]\n",
    "models = ['Cosine Similarity', 'Euclidean Similarity','Correlation Features', 'RFE Features']\n",
    "\n",
    "# # Plotting\n",
    "# plt.bar(models, rmse_values, color=['blue', 'green', 'red', 'purple'])\n",
    "# plt.xlabel('Models')\n",
    "# plt.ylabel('RMSE Values')\n",
    "# plt.title('Comparison of RMSE Values for Different Models')\n",
    "# plt.ylim(0, max(rmse_values) + 0.1)  # Adjust ylim for better visualization\n",
    "# plt.show()\n",
    "fig, ax = plt.subplots()\n",
    "ax.bar(models, rmse_values, color=['blue', 'green', 'red', 'purple'])\n",
    "\n",
    "# Adjust x-axis labels and increase the space between them\n",
    "ax.set_xticks(models)\n",
    "ax.set_xticklabels(models, rotation=45, ha='right')  # Rotate labels for better readability\n",
    "plt.subplots_adjust(bottom=0.2)  # Adjust the bottom margin to make room for rotated labels\n",
    "\n",
    "plt.xlabel('Models')\n",
    "plt.ylabel('RMSE Values')\n",
    "plt.title('Comparison of RMSE Values for Different Models')\n",
    "plt.ylim(0, max(rmse_values) + 0.1)  # Adjust ylim for better visualization\n",
    "plt.show()\n"
   ]
  },
  {
   "cell_type": "code",
   "execution_count": null,
   "metadata": {
    "is_executing": true
   },
   "outputs": [],
   "source": [
    "# Calculate combined accuracy for (Cosine Similarity + Correlation Features) and (Euclidean Similarity + RFE Features)\n",
    "accuracy_combined_cos_corr = 1 / ((1 / rmse_values['Cosine Similarity']) + (1 / rmse_values['Correlation Features']))\n",
    "accuracy_combined_euc_rfe = 1 / ((1 / rmse_values['Euclidean Similarity']) + (1 / rmse_values['RFE Features']))\n",
    "\n",
    "# Convert combined accuracy to percentage\n",
    "accuracy_combined_cos_corr_percentage = (1 - accuracy_combined_cos_corr) * 100  # Reverse the accuracy\n",
    "accuracy_combined_euc_rfe_percentage = (1 - accuracy_combined_euc_rfe) * 100  # Reverse the accuracy\n",
    "\n",
    "print(f\"Combined Accuracy (out of 100) for (Cosine Similarity + Correlation Features): {accuracy_combined_cos_corr_percentage:.2f}%\")\n",
    "print(f\"Combined Accuracy (out of 100) for (Euclidean Similarity + RFE Features): {accuracy_combined_euc_rfe_percentage:.2f}%\")"
   ]
  },
  {
   "cell_type": "code",
   "execution_count": null,
   "metadata": {
    "is_executing": true
   },
   "outputs": [],
   "source": [
    "import matplotlib.pyplot as plt\n",
    "\n",
    "# Replace these values with your actual accuracy percentages\n",
    "accuracy_combined_cos_corr_percentage = 9.57\n",
    "accuracy_combined_euc_rfe_percentage = 29.11\n",
    "\n",
    "# Reverse the accuracy percentages\n",
    "accuracy_combined_cos_corr_percentage_reverse = 100 - accuracy_combined_cos_corr_percentage\n",
    "accuracy_combined_euc_rfe_percentage_reverse = 100 - accuracy_combined_euc_rfe_percentage\n",
    "\n",
    "# Plotting the bar chart with added distance between x-axis labels\n",
    "models = ['Cosine Similarity + Correlation Features', 'Euclidean Similarity + RFE Features']\n",
    "accuracy_values = [accuracy_combined_cos_corr_percentage_reverse, accuracy_combined_euc_rfe_percentage_reverse]\n",
    "\n",
    "bar_width = 0.7 # Adjust the width based on your preference\n",
    "\n",
    "plt.bar(models, accuracy_values, width=bar_width, color=['blue', 'green'])\n",
    "plt.xlabel('Model Combinations')\n",
    "plt.ylabel('Accuracy (out of 100)')\n",
    "plt.title('Combined Accuracy Comparison (Higher Percent, Higher Accuracy)')\n",
    "plt.xticks(models, rotation=45, ha='right')  # Rotate x-axis labels for better readability\n",
    "plt.ylim(0, 100)  # Set y-axis limits for better visualization\n",
    "plt.show()\n"
   ]
  },
  {
   "cell_type": "code",
   "execution_count": null,
   "metadata": {
    "is_executing": true
   },
   "outputs": [],
   "source": [
    "import pandas as pd\n",
    "from sklearn.model_selection import train_test_split\n",
    "from sklearn.feature_extraction.text import TfidfVectorizer\n",
    "from sklearn.linear_model import LinearRegression\n",
    "from sklearn.metrics import mean_squared_error\n",
    "from sklearn.preprocessing import LabelEncoder\n",
    "\n",
    "# Assuming your dataset is stored in a DataFrame named 'df'\n",
    "# Make sure to replace 'your_dataset.csv' with the actual file path if reading from a CSV file\n",
    "# df = pd.read_csv('your_dataset.csv')\n",
    "\n",
    "# Extract relevant columns\n",
    "data = zomato[['name', 'rate']]\n",
    "\n",
    "# Drop rows with missing values in the 'rate' column\n",
    "data = data.dropna(subset=['rate'])\n",
    "\n",
    "# Encode restaurant names using LabelEncoder\n",
    "le = LabelEncoder()\n",
    "data['name_encoded'] = le.fit_transform(data['name']).astype(str)\n",
    "\n",
    "# Split the data into training and testing sets\n",
    "X_train, X_test, y_train, y_test = train_test_split(data[['name_encoded']], data['rate'], test_size=0.2, random_state=42)\n",
    "\n",
    "# Create a TF-IDF vectorizer for restaurant names\n",
    "vectorizer = TfidfVectorizer()\n",
    "X_train_tfidf = vectorizer.fit_transform(X_train['name_encoded'])\n",
    "X_test_tfidf = vectorizer.transform(X_test['name_encoded'])\n",
    "\n",
    "# Train a linear regression model\n",
    "model = LinearRegression()\n",
    "model.fit(X_train_tfidf, y_train)\n",
    "\n",
    "# Make predictions on the test set\n",
    "predictions = model.predict(X_test_tfidf)\n",
    "\n",
    "# Evaluate the model\n",
    "mse = mean_squared_error(y_test, predictions)\n",
    "print(f'Mean Squared Error: {mse}')\n",
    "\n",
    "# Now you can use the trained model to predict ratings for new restaurant names\n",
    "new_restaurant_names = [\"San Churro Cafe\", \"Cafe Mondo\"]\n",
    "new_restaurant_names_encoded = le.transform(new_restaurant_names).astype(str)\n",
    "new_restaurant_names_tfidf = vectorizer.transform(new_restaurant_names_encoded)\n",
    "new_ratings = model.predict(new_restaurant_names_tfidf)\n",
    "\n",
    "print(\"Predicted Ratings for New Restaurants:\")\n",
    "for restaurant, rating in zip(new_restaurant_names, new_ratings):\n",
    "    print(f\"{restaurant}: {rating}\")\n"
   ]
  },
  {
   "cell_type": "code",
   "execution_count": null,
   "metadata": {
    "is_executing": true
   },
   "outputs": [],
   "source": [
    "zomato.head()"
   ]
  },
  {
   "cell_type": "code",
   "execution_count": null,
   "metadata": {
    "is_executing": true
   },
   "outputs": [],
   "source": [
    "import pandas as pd\n",
    "from sklearn.model_selection import train_test_split\n",
    "from sklearn.feature_extraction.text import TfidfVectorizer\n",
    "from sklearn.linear_model import LinearRegression\n",
    "from sklearn.metrics import mean_squared_error\n",
    "from sklearn.preprocessing import LabelEncoder\n",
    "\n",
    "# Assuming your dataset is stored in a DataFrame named 'zomato'\n",
    "# Make sure to replace 'your_dataset.csv' with the actual file path if reading from a CSV file\n",
    "# zomato = pd.read_csv('your_dataset.csv')\n",
    "\n",
    "# Extract relevant columns\n",
    "data = zomato[['name', 'rate']]\n",
    "\n",
    "# Drop rows with missing values in the 'rate' column\n",
    "data = data.dropna(subset=['rate'])\n",
    "\n",
    "# Encode restaurant names using LabelEncoder\n",
    "le = LabelEncoder()\n",
    "data['name_encoded'] = le.fit_transform(data['name']).astype(str)\n",
    "\n",
    "# Split the data into training and testing sets\n",
    "X_train, X_test, y_train, y_test = train_test_split(data[['name_encoded']], data['rate'], test_size=0.2, random_state=42)\n",
    "\n",
    "# Create a TF-IDF vectorizer for restaurant names\n",
    "vectorizer = TfidfVectorizer()\n",
    "X_train_tfidf = vectorizer.fit_transform(X_train['name_encoded'])\n",
    "X_test_tfidf = vectorizer.transform(X_test['name_encoded'])\n",
    "\n",
    "# Train a linear regression model\n",
    "model = LinearRegression()\n",
    "model.fit(X_train_tfidf, y_train)\n",
    "\n",
    "def predict_rating_for_restaurant(restaurant_name):\n",
    "    # Encode the input restaurant name\n",
    "    restaurant_name_encoded = le.transform([restaurant_name]).astype(str)\n",
    "\n",
    "    # Transform using the TF-IDF vectorizer\n",
    "    restaurant_name_tfidf = vectorizer.transform(restaurant_name_encoded)\n",
    "\n",
    "    # Predict the rating\n",
    "    rating_prediction = model.predict(restaurant_name_tfidf)\n",
    "\n",
    "    return rating_prediction[0]\n",
    "\n"
   ]
  },
  {
   "cell_type": "code",
   "execution_count": null,
   "metadata": {
    "is_executing": true
   },
   "outputs": [],
   "source": [
    "\n",
    "# Example usage\n",
    "restaurant_name_input = \"San Churro Cafe\"\n",
    "predicted_rating = predict_rating_for_restaurant(restaurant_name_input)\n",
    "print(f\"Predicted Rating for {restaurant_name_input}: {predicted_rating}\")"
   ]
  },
  {
   "cell_type": "code",
   "execution_count": 1,
   "metadata": {},
   "outputs": [
    {
     "data": {
      "image/png": "[encoded data removed]",
      "text/plain": [
       "<Figure size 1000x600 with 1 Axes>"
      ]
     },
     "metadata": {},
     "output_type": "display_data"
    }
   ],
   "source": [
    "import matplotlib.pyplot as plt\n",
    "\n",
    "# Recommendation models and their respective accuracy\n",
    "models = ['Content-Based', 'Collaborative Filtering', 'Matrix Factorization', 'Hybrid Model']\n",
    "accuracy = [91, 86, 45, 70]\n",
    "\n",
    "# Plotting the line chart\n",
    "plt.figure(figsize=(10, 6))\n",
    "plt.plot(models, accuracy, marker='o', linestyle='-', color='b', label='Accuracy')\n",
    "\n",
    "# Adding labels and title\n",
    "plt.xlabel('Recommendation Models')\n",
    "plt.ylabel('Accuracy (%)')\n",
    "plt.title('Accuracy Comparison of Recommendation Models')\n",
    "plt.ylim(0, 100)\n",
    "\n",
    "# Adding accuracy values on each point\n",
    "for i, acc in enumerate(accuracy):\n",
    "    plt.text(i, acc + 2, f'{acc}%', ha='center', va='bottom')\n",
    "\n",
    "# Display the plot\n",
    "plt.legend()\n",
    "plt.grid(True)\n",
    "plt.tight_layout()\n",
    "plt.show()\n"
   ]
  }
 ],
 "metadata": {
  "kernelspec": {
   "display_name": "Python 3",
   "language": "python",
   "name": "python3"
  },
  "language_info": {
   "codemirror_mode": {
    "name": "ipython",
    "version": 3
   },
   "file_extension": ".py",
   "mimetype": "text/x-python",
   "name": "python",
   "nbconvert_exporter": "python",
   "pygments_lexer": "ipython3",
   "version": "3.11.4"
  }
 },
 "nbformat": 4,
 "nbformat_minor": 2
}
