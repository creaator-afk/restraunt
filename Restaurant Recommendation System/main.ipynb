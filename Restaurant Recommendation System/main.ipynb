{
 "cells": [
  {
   "cell_type": "code",
   "execution_count": 2,
   "metadata": {},
   "outputs": [
    {
     "name": "stdout",
     "output_type": "stream",
     "text": [
      "WARNING:tensorflow:From C:\\Users\\ASUSU\\AppData\\Roaming\\Python\\Python311\\site-packages\\keras\\src\\losses.py:2976: The name tf.losses.sparse_softmax_cross_entropy is deprecated. Please use tf.compat.v1.losses.sparse_softmax_cross_entropy instead.\n"
     ]
    }
   ],
   "source": [
    "import numpy as np\n",
    "import pandas as pd\n",
    "import matplotlib.pyplot as plt\n",
    "from keras.models import Sequential\n",
    "# from keras.layers.core import Dense,Activation,Dropout\n",
    "from keras.layers import LSTM\n",
    "from sklearn.preprocessing import StandardScaler\n",
    "from sklearn.model_selection import train_test_split\n",
    "import seaborn as sns\n",
    "from sklearn.ensemble import RandomForestClassifier\n",
    "from sklearn import svm\n",
    "from nltk.corpus import stopwords \n",
    "from nltk.tokenize import word_tokenize \n",
    "from xgboost import XGBClassifier\n",
    "from sklearn.neural_network import MLPClassifier\n",
    "from sklearn.metrics import accuracy_score\n",
    "from sklearn.tree import DecisionTreeClassifier\n",
    "from keras.callbacks import EarlyStopping\n",
    "import math\n",
    "import os\n",
    "from sklearn.feature_extraction.text import TfidfVectorizer, CountVectorizer\n",
    "from sklearn.metrics.pairwise import linear_kernel, cosine_similarity\n",
    "from nltk.stem.snowball import SnowballStemmer\n",
    "from nltk.stem.wordnet import WordNetLemmatizer\n",
    "from nltk.corpus import wordnet\n",
    "from nltk.stem import WordNetLemmatizer"
   ]
  },
  {
   "cell_type": "code",
   "execution_count": 3,
   "metadata": {},
   "outputs": [],
   "source": [
    "hotel_details=pd.read_csv(r'DataSet\\Hotel_details.csv')\n",
    "hotel_rooms=pd.read_csv(r'DataSet\\Hotel_Room_attributes.csv')\n",
    "hotel_cost=pd.read_csv(r'DataSet\\hotels_RoomPrice.csv')"
   ]
  },
  {
   "cell_type": "code",
   "execution_count": 4,
   "metadata": {},
   "outputs": [
    {
     "data": {
      "text/html": [
       "<div>\n",
       "<style scoped>\n",
       "    .dataframe tbody tr th:only-of-type {\n",
       "        vertical-align: middle;\n",
       "    }\n",
       "\n",
       "    .dataframe tbody tr th {\n",
       "        vertical-align: top;\n",
       "    }\n",
       "\n",
       "    .dataframe thead th {\n",
       "        text-align: right;\n",
       "    }\n",
       "</style>\n",
       "<table border=\"1\" class=\"dataframe\">\n",
       "  <thead>\n",
       "    <tr style=\"text-align: right;\">\n",
       "      <th></th>\n",
       "      <th>id</th>\n",
       "      <th>hotelid</th>\n",
       "      <th>hotelname</th>\n",
       "      <th>address</th>\n",
       "      <th>city</th>\n",
       "      <th>country</th>\n",
       "      <th>zipcode</th>\n",
       "      <th>propertytype</th>\n",
       "      <th>starrating</th>\n",
       "      <th>latitude</th>\n",
       "      <th>longitude</th>\n",
       "      <th>Source</th>\n",
       "      <th>url</th>\n",
       "      <th>curr</th>\n",
       "    </tr>\n",
       "  </thead>\n",
       "  <tbody>\n",
       "    <tr>\n",
       "      <th>0</th>\n",
       "      <td>46406</td>\n",
       "      <td>1771651</td>\n",
       "      <td>Mediteran Bungalow Galeb</td>\n",
       "      <td>Vukovarska 7</td>\n",
       "      <td>Omis</td>\n",
       "      <td>Croatia</td>\n",
       "      <td>21310.0</td>\n",
       "      <td>Holiday parks</td>\n",
       "      <td>4</td>\n",
       "      <td>43.440124</td>\n",
       "      <td>16.682505</td>\n",
       "      <td>2</td>\n",
       "      <td>https://www.booking.com/hotel/hr/bungalow-luxu...</td>\n",
       "      <td>EUR</td>\n",
       "    </tr>\n",
       "    <tr>\n",
       "      <th>1</th>\n",
       "      <td>46407</td>\n",
       "      <td>177167</td>\n",
       "      <td>Hotel Polonia</td>\n",
       "      <td>Plac Teatralny 5</td>\n",
       "      <td>Torun</td>\n",
       "      <td>Poland</td>\n",
       "      <td>NaN</td>\n",
       "      <td>Hotels</td>\n",
       "      <td>3</td>\n",
       "      <td>53.012329</td>\n",
       "      <td>18.603800</td>\n",
       "      <td>5</td>\n",
       "      <td>https://www.agoda.com/en-gb/hotel-polonia/hote...</td>\n",
       "      <td>EUR</td>\n",
       "    </tr>\n",
       "    <tr>\n",
       "      <th>2</th>\n",
       "      <td>46408</td>\n",
       "      <td>1771675</td>\n",
       "      <td>Rifugio Sass Bece</td>\n",
       "      <td>Belvedere del Pordoi,1</td>\n",
       "      <td>Canazei</td>\n",
       "      <td>Italy</td>\n",
       "      <td>38032.0</td>\n",
       "      <td>Hotels</td>\n",
       "      <td>3</td>\n",
       "      <td>46.477920</td>\n",
       "      <td>11.813350</td>\n",
       "      <td>2</td>\n",
       "      <td>http://www.booking.com/hotel/it/rifugio-sass-b...</td>\n",
       "      <td>EUR</td>\n",
       "    </tr>\n",
       "    <tr>\n",
       "      <th>3</th>\n",
       "      <td>46409</td>\n",
       "      <td>177168</td>\n",
       "      <td>Madalena Hotel</td>\n",
       "      <td>Mykonos</td>\n",
       "      <td>Mykonos</td>\n",
       "      <td>Greece</td>\n",
       "      <td>84600.0</td>\n",
       "      <td>Hotels</td>\n",
       "      <td>3</td>\n",
       "      <td>37.452316</td>\n",
       "      <td>25.329849</td>\n",
       "      <td>5</td>\n",
       "      <td>https://www.agoda.com/en-gb/madalena-hotel/hot...</td>\n",
       "      <td>EUR</td>\n",
       "    </tr>\n",
       "    <tr>\n",
       "      <th>4</th>\n",
       "      <td>46410</td>\n",
       "      <td>1771718</td>\n",
       "      <td>Pension Morenfeld</td>\n",
       "      <td>Mair im Korn Strasse 2</td>\n",
       "      <td>Lagundo</td>\n",
       "      <td>Italy</td>\n",
       "      <td>39022.0</td>\n",
       "      <td>Hotels</td>\n",
       "      <td>3</td>\n",
       "      <td>46.682780</td>\n",
       "      <td>11.131736</td>\n",
       "      <td>2</td>\n",
       "      <td>http://www.booking.com/hotel/it/pension-morenf...</td>\n",
       "      <td>EUR</td>\n",
       "    </tr>\n",
       "  </tbody>\n",
       "</table>\n",
       "</div>"
      ],
      "text/plain": [
       "      id  hotelid                 hotelname                 address     city  \\\n",
       "0  46406  1771651  Mediteran Bungalow Galeb            Vukovarska 7     Omis   \n",
       "1  46407   177167             Hotel Polonia        Plac Teatralny 5    Torun   \n",
       "2  46408  1771675         Rifugio Sass Bece  Belvedere del Pordoi,1  Canazei   \n",
       "3  46409   177168            Madalena Hotel                 Mykonos  Mykonos   \n",
       "4  46410  1771718         Pension Morenfeld  Mair im Korn Strasse 2  Lagundo   \n",
       "\n",
       "   country  zipcode   propertytype  starrating   latitude  longitude  Source  \\\n",
       "0  Croatia  21310.0  Holiday parks           4  43.440124  16.682505       2   \n",
       "1   Poland      NaN         Hotels           3  53.012329  18.603800       5   \n",
       "2    Italy  38032.0         Hotels           3  46.477920  11.813350       2   \n",
       "3   Greece  84600.0         Hotels           3  37.452316  25.329849       5   \n",
       "4    Italy  39022.0         Hotels           3  46.682780  11.131736       2   \n",
       "\n",
       "                                                 url curr  \n",
       "0  https://www.booking.com/hotel/hr/bungalow-luxu...  EUR  \n",
       "1  https://www.agoda.com/en-gb/hotel-polonia/hote...  EUR  \n",
       "2  http://www.booking.com/hotel/it/rifugio-sass-b...  EUR  \n",
       "3  https://www.agoda.com/en-gb/madalena-hotel/hot...  EUR  \n",
       "4  http://www.booking.com/hotel/it/pension-morenf...  EUR  "
      ]
     },
     "execution_count": 4,
     "metadata": {},
     "output_type": "execute_result"
    }
   ],
   "source": [
    "hotel_details.head()\n"
   ]
  },
  {
   "cell_type": "code",
   "execution_count": 5,
   "metadata": {},
   "outputs": [
    {
     "data": {
      "text/html": [
       "<div>\n",
       "<style scoped>\n",
       "    .dataframe tbody tr th:only-of-type {\n",
       "        vertical-align: middle;\n",
       "    }\n",
       "\n",
       "    .dataframe tbody tr th {\n",
       "        vertical-align: top;\n",
       "    }\n",
       "\n",
       "    .dataframe thead th {\n",
       "        text-align: right;\n",
       "    }\n",
       "</style>\n",
       "<table border=\"1\" class=\"dataframe\">\n",
       "  <thead>\n",
       "    <tr style=\"text-align: right;\">\n",
       "      <th></th>\n",
       "      <th>id</th>\n",
       "      <th>hotelcode</th>\n",
       "      <th>roomamenities</th>\n",
       "      <th>roomtype</th>\n",
       "      <th>ratedescription</th>\n",
       "    </tr>\n",
       "  </thead>\n",
       "  <tbody>\n",
       "    <tr>\n",
       "      <th>0</th>\n",
       "      <td>50677497</td>\n",
       "      <td>634876</td>\n",
       "      <td>Air conditioning: ;Alarm clock: ;Carpeting: ;C...</td>\n",
       "      <td>Double Room</td>\n",
       "      <td>Room size: 15 m²/161 ft², Shower, 1 king bed</td>\n",
       "    </tr>\n",
       "    <tr>\n",
       "      <th>1</th>\n",
       "      <td>50672149</td>\n",
       "      <td>8328096</td>\n",
       "      <td>Air conditioning: ;Closet: ;Fireplace: ;Free W...</td>\n",
       "      <td>Vacation Home</td>\n",
       "      <td>Shower, Kitchenette, 2 bedrooms, 1 double bed ...</td>\n",
       "    </tr>\n",
       "    <tr>\n",
       "      <th>2</th>\n",
       "      <td>50643430</td>\n",
       "      <td>8323442</td>\n",
       "      <td>Air conditioning: ;Closet: ;Dishwasher: ;Firep...</td>\n",
       "      <td>Vacation Home</td>\n",
       "      <td>Shower, Kitchenette, 2 bedrooms, 1 double bed ...</td>\n",
       "    </tr>\n",
       "    <tr>\n",
       "      <th>3</th>\n",
       "      <td>50650317</td>\n",
       "      <td>7975</td>\n",
       "      <td>Air conditioning: ;Clothes rack: ;Coffee/tea m...</td>\n",
       "      <td>Standard Triple Room</td>\n",
       "      <td>Room size: 20 m²/215 ft², Shower, 3 single beds</td>\n",
       "    </tr>\n",
       "    <tr>\n",
       "      <th>4</th>\n",
       "      <td>50650318</td>\n",
       "      <td>7975</td>\n",
       "      <td>Air conditioning: ;Clothes rack: ;Coffee/tea m...</td>\n",
       "      <td>Standard Triple Room</td>\n",
       "      <td>Room size: 20 m²/215 ft², Shower, 3 single beds</td>\n",
       "    </tr>\n",
       "  </tbody>\n",
       "</table>\n",
       "</div>"
      ],
      "text/plain": [
       "         id  hotelcode                                      roomamenities  \\\n",
       "0  50677497     634876  Air conditioning: ;Alarm clock: ;Carpeting: ;C...   \n",
       "1  50672149    8328096  Air conditioning: ;Closet: ;Fireplace: ;Free W...   \n",
       "2  50643430    8323442  Air conditioning: ;Closet: ;Dishwasher: ;Firep...   \n",
       "3  50650317       7975  Air conditioning: ;Clothes rack: ;Coffee/tea m...   \n",
       "4  50650318       7975  Air conditioning: ;Clothes rack: ;Coffee/tea m...   \n",
       "\n",
       "               roomtype                                    ratedescription  \n",
       "0           Double Room       Room size: 15 m²/161 ft², Shower, 1 king bed  \n",
       "1         Vacation Home  Shower, Kitchenette, 2 bedrooms, 1 double bed ...  \n",
       "2         Vacation Home  Shower, Kitchenette, 2 bedrooms, 1 double bed ...  \n",
       "3  Standard Triple Room    Room size: 20 m²/215 ft², Shower, 3 single beds  \n",
       "4  Standard Triple Room    Room size: 20 m²/215 ft², Shower, 3 single beds  "
      ]
     },
     "execution_count": 5,
     "metadata": {},
     "output_type": "execute_result"
    }
   ],
   "source": [
    "hotel_rooms.head()"
   ]
  },
  {
   "cell_type": "markdown",
   "metadata": {},
   "source": [
    "Data Cleaning and transformations"
   ]
  },
  {
   "cell_type": "code",
   "execution_count": 6,
   "metadata": {},
   "outputs": [],
   "source": [
    "del hotel_details['id']\n",
    "del hotel_rooms['id']\n",
    "del hotel_details['zipcode']"
   ]
  },
  {
   "cell_type": "code",
   "execution_count": 7,
   "metadata": {},
   "outputs": [],
   "source": [
    "hotel_details=hotel_details.dropna()\n",
    "hotel_rooms=hotel_rooms.dropna()\n"
   ]
  },
  {
   "cell_type": "code",
   "execution_count": 8,
   "metadata": {},
   "outputs": [],
   "source": [
    "hotel_details.drop_duplicates(subset='hotelid',keep=False,inplace=True)"
   ]
  },
  {
   "cell_type": "code",
   "execution_count": 9,
   "metadata": {},
   "outputs": [],
   "source": [
    "hotel=pd.merge(hotel_rooms,hotel_details,left_on='hotelcode',right_on='hotelid',how='inner')"
   ]
  },
  {
   "cell_type": "code",
   "execution_count": 10,
   "metadata": {},
   "outputs": [
    {
     "data": {
      "text/plain": [
       "145425"
      ]
     },
     "execution_count": 10,
     "metadata": {},
     "output_type": "execute_result"
    }
   ],
   "source": [
    "hotel['hotelcode'].isna().count()\n"
   ]
  },
  {
   "cell_type": "code",
   "execution_count": 11,
   "metadata": {},
   "outputs": [
    {
     "data": {
      "text/plain": [
       "Index(['hotelcode', 'roomamenities', 'roomtype', 'ratedescription', 'hotelid',\n",
       "       'hotelname', 'address', 'city', 'country', 'propertytype', 'starrating',\n",
       "       'latitude', 'longitude', 'Source', 'url', 'curr'],\n",
       "      dtype='object')"
      ]
     },
     "execution_count": 11,
     "metadata": {},
     "output_type": "execute_result"
    }
   ],
   "source": [
    "hotel.columns"
   ]
  },
  {
   "cell_type": "code",
   "execution_count": 12,
   "metadata": {},
   "outputs": [
    {
     "data": {
      "text/plain": [
       "0                            Double Room\n",
       "1                            Double Room\n",
       "2         Deluxe Double Room with Shower\n",
       "3                   Superior Double Room\n",
       "4           Standard Double or Twin Room\n",
       "                       ...              \n",
       "145420                Standard Twin Room\n",
       "145421                Standard Twin Room\n",
       "145422       1 Double Bed, standard room\n",
       "145423       1 Double Bed, standard room\n",
       "145424      2 Single Beds, standard room\n",
       "Name: roomtype, Length: 145425, dtype: object"
      ]
     },
     "execution_count": 12,
     "metadata": {},
     "output_type": "execute_result"
    }
   ],
   "source": [
    "hotel['roomtype']"
   ]
  },
  {
   "cell_type": "markdown",
   "metadata": {},
   "source": [
    "Recommender system based only on City and ratings about the hotel"
   ]
  },
  {
   "cell_type": "code",
   "execution_count": 17,
   "metadata": {},
   "outputs": [],
   "source": [
    "def citybased(city):\n",
    "    hotel['city']=hotel['city'].str.lower()\n",
    "    citybase=hotel[hotel['city']==city.lower()]\n",
    "    citybase=citybase.sort_values(by='starrating',ascending=False)\n",
    "    citybase.drop_duplicates(subset='hotelcode',keep='first',inplace=True)\n",
    "    if(citybase.empty==0):\n",
    "        hname=citybase[['hotelname','starrating','address','roomamenities','ratedescription']]\n",
    "        return hname.head()\n",
    "    else:\n",
    "        print('No Hotels Available')"
   ]
  },
  {
   "cell_type": "code",
   "execution_count": 14,
   "metadata": {},
   "outputs": [
    {
     "data": {
      "text/plain": [
       "0         Nether Stowey\n",
       "1         Nether Stowey\n",
       "2         Nether Stowey\n",
       "3         Nether Stowey\n",
       "4         Nether Stowey\n",
       "              ...      \n",
       "145420         Merignac\n",
       "145421         Merignac\n",
       "145422         Merignac\n",
       "145423         Merignac\n",
       "145424         Merignac\n",
       "Name: city, Length: 145425, dtype: object"
      ]
     },
     "execution_count": 14,
     "metadata": {},
     "output_type": "execute_result"
    }
   ],
   "source": [
    "hotel['city']"
   ]
  },
  {
   "cell_type": "code",
   "execution_count": 18,
   "metadata": {},
   "outputs": [
    {
     "name": "stdout",
     "output_type": "stream",
     "text": [
      "Top 5 hotels\n"
     ]
    },
    {
     "data": {
      "text/html": [
       "<div>\n",
       "<style scoped>\n",
       "    .dataframe tbody tr th:only-of-type {\n",
       "        vertical-align: middle;\n",
       "    }\n",
       "\n",
       "    .dataframe tbody tr th {\n",
       "        vertical-align: top;\n",
       "    }\n",
       "\n",
       "    .dataframe thead th {\n",
       "        text-align: right;\n",
       "    }\n",
       "</style>\n",
       "<table border=\"1\" class=\"dataframe\">\n",
       "  <thead>\n",
       "    <tr style=\"text-align: right;\">\n",
       "      <th></th>\n",
       "      <th>hotelname</th>\n",
       "      <th>starrating</th>\n",
       "      <th>address</th>\n",
       "      <th>roomamenities</th>\n",
       "      <th>ratedescription</th>\n",
       "    </tr>\n",
       "  </thead>\n",
       "  <tbody>\n",
       "    <tr>\n",
       "      <th>48985</th>\n",
       "      <td>The Colonnade London Hotel</td>\n",
       "      <td>4</td>\n",
       "      <td>2 Warrington Crescent</td>\n",
       "      <td>Additional toilet: ;Air conditioning: ;Alarm c...</td>\n",
       "      <td>Room size: 28 m²/301 ft², Balcony/terrace, Non...</td>\n",
       "    </tr>\n",
       "    <tr>\n",
       "      <th>58663</th>\n",
       "      <td>South Point Suites - London Bridge</td>\n",
       "      <td>4</td>\n",
       "      <td>Bermondsey Street</td>\n",
       "      <td>Air conditioning: ;Alarm clock: ;Blackout curt...</td>\n",
       "      <td>Room size: 24 m²/258 ft², Street view, Non-smo...</td>\n",
       "    </tr>\n",
       "    <tr>\n",
       "      <th>106943</th>\n",
       "      <td>Doubletree by Hilton London Chelsea</td>\n",
       "      <td>4</td>\n",
       "      <td>Imperial Road Imperial Wharf</td>\n",
       "      <td>Air conditioning: ;Alarm clock: ;Blackout curt...</td>\n",
       "      <td>Room size: 20 m²/215 ft², Street view, Non-smo...</td>\n",
       "    </tr>\n",
       "    <tr>\n",
       "      <th>57452</th>\n",
       "      <td>Sir Christopher Wren Hotel &amp; Spa</td>\n",
       "      <td>4</td>\n",
       "      <td>Unknown</td>\n",
       "      <td>Air conditioning: ;Alarm clock: ;Bathrobes: ;B...</td>\n",
       "      <td>Room size: 25 m²/269 ft², Non-smoking, Shower ...</td>\n",
       "    </tr>\n",
       "    <tr>\n",
       "      <th>92479</th>\n",
       "      <td>The Manor Hotel Heathrow</td>\n",
       "      <td>4</td>\n",
       "      <td>Village Green, Datchet,</td>\n",
       "      <td>Additional bathroom: ;Additional toilet: ;Air ...</td>\n",
       "      <td>Shower and bathtub, 1 double bed</td>\n",
       "    </tr>\n",
       "    <tr>\n",
       "      <th>58886</th>\n",
       "      <td>Holiday Inn Express London - Epsom Downs</td>\n",
       "      <td>4</td>\n",
       "      <td>Langley Vale Road</td>\n",
       "      <td>Air conditioning: ;Carpeting: ;Closet: ;Clothe...</td>\n",
       "      <td>Room size: 25 m²/269 ft², Non-smoking, Shower,...</td>\n",
       "    </tr>\n",
       "    <tr>\n",
       "      <th>57026</th>\n",
       "      <td>Ten Manchester Street Hotel</td>\n",
       "      <td>4</td>\n",
       "      <td>10 Manchester Street</td>\n",
       "      <td>Air conditioning: ;Bathrobes: ;Blackout curtai...</td>\n",
       "      <td>Room size: 16 m²/172 ft², Non-smoking, Shower,...</td>\n",
       "    </tr>\n",
       "    <tr>\n",
       "      <th>55913</th>\n",
       "      <td>Acorn Lodge Gatwick</td>\n",
       "      <td>4</td>\n",
       "      <td>79 Massetts Road, Horley</td>\n",
       "      <td>Air conditioning: ;Carpeting: ;Closet: ;Coffee...</td>\n",
       "      <td>Shower, 1 double bed and 1 bunk bed</td>\n",
       "    </tr>\n",
       "    <tr>\n",
       "      <th>52224</th>\n",
       "      <td>Moxy London Heathrow Airport</td>\n",
       "      <td>4</td>\n",
       "      <td>804-834 Bath Road</td>\n",
       "      <td>Air conditioning: ;Carpeting: ;Clothes rack: ;...</td>\n",
       "      <td>Room size: 17 m²/183 ft², Non-smoking, Shower,...</td>\n",
       "    </tr>\n",
       "    <tr>\n",
       "      <th>60709</th>\n",
       "      <td>Hallmark Hotel London Chigwell Prince Regent</td>\n",
       "      <td>4</td>\n",
       "      <td>Manor Road</td>\n",
       "      <td>Air conditioning: ;Free Wi-Fi in all rooms!: ;...</td>\n",
       "      <td>Pay nothing until January 4, 2020, Free Wi-Fi,...</td>\n",
       "    </tr>\n",
       "  </tbody>\n",
       "</table>\n",
       "</div>"
      ],
      "text/plain": [
       "                                           hotelname  starrating  \\\n",
       "48985                     The Colonnade London Hotel           4   \n",
       "58663             South Point Suites - London Bridge           4   \n",
       "106943           Doubletree by Hilton London Chelsea           4   \n",
       "57452               Sir Christopher Wren Hotel & Spa           4   \n",
       "92479                       The Manor Hotel Heathrow           4   \n",
       "58886       Holiday Inn Express London - Epsom Downs           4   \n",
       "57026                    Ten Manchester Street Hotel           4   \n",
       "55913                            Acorn Lodge Gatwick           4   \n",
       "52224                   Moxy London Heathrow Airport           4   \n",
       "60709   Hallmark Hotel London Chigwell Prince Regent           4   \n",
       "\n",
       "                             address  \\\n",
       "48985          2 Warrington Crescent   \n",
       "58663              Bermondsey Street   \n",
       "106943  Imperial Road Imperial Wharf   \n",
       "57452                        Unknown   \n",
       "92479        Village Green, Datchet,   \n",
       "58886              Langley Vale Road   \n",
       "57026           10 Manchester Street   \n",
       "55913       79 Massetts Road, Horley   \n",
       "52224              804-834 Bath Road   \n",
       "60709                     Manor Road   \n",
       "\n",
       "                                            roomamenities  \\\n",
       "48985   Additional toilet: ;Air conditioning: ;Alarm c...   \n",
       "58663   Air conditioning: ;Alarm clock: ;Blackout curt...   \n",
       "106943  Air conditioning: ;Alarm clock: ;Blackout curt...   \n",
       "57452   Air conditioning: ;Alarm clock: ;Bathrobes: ;B...   \n",
       "92479   Additional bathroom: ;Additional toilet: ;Air ...   \n",
       "58886   Air conditioning: ;Carpeting: ;Closet: ;Clothe...   \n",
       "57026   Air conditioning: ;Bathrobes: ;Blackout curtai...   \n",
       "55913   Air conditioning: ;Carpeting: ;Closet: ;Coffee...   \n",
       "52224   Air conditioning: ;Carpeting: ;Clothes rack: ;...   \n",
       "60709   Air conditioning: ;Free Wi-Fi in all rooms!: ;...   \n",
       "\n",
       "                                          ratedescription  \n",
       "48985   Room size: 28 m²/301 ft², Balcony/terrace, Non...  \n",
       "58663   Room size: 24 m²/258 ft², Street view, Non-smo...  \n",
       "106943  Room size: 20 m²/215 ft², Street view, Non-smo...  \n",
       "57452   Room size: 25 m²/269 ft², Non-smoking, Shower ...  \n",
       "92479                    Shower and bathtub, 1 double bed  \n",
       "58886   Room size: 25 m²/269 ft², Non-smoking, Shower,...  \n",
       "57026   Room size: 16 m²/172 ft², Non-smoking, Shower,...  \n",
       "55913                 Shower, 1 double bed and 1 bunk bed  \n",
       "52224   Room size: 17 m²/183 ft², Non-smoking, Shower,...  \n",
       "60709   Pay nothing until January 4, 2020, Free Wi-Fi,...  "
      ]
     },
     "execution_count": 18,
     "metadata": {},
     "output_type": "execute_result"
    }
   ],
   "source": [
    "print('Top 5 hotels')\n",
    "citybased('London')"
   ]
  },
  {
   "cell_type": "code",
   "execution_count": 16,
   "metadata": {},
   "outputs": [
    {
     "data": {
      "text/html": [
       "<div>\n",
       "<style scoped>\n",
       "    .dataframe tbody tr th:only-of-type {\n",
       "        vertical-align: middle;\n",
       "    }\n",
       "\n",
       "    .dataframe tbody tr th {\n",
       "        vertical-align: top;\n",
       "    }\n",
       "\n",
       "    .dataframe thead th {\n",
       "        text-align: right;\n",
       "    }\n",
       "</style>\n",
       "<table border=\"1\" class=\"dataframe\">\n",
       "  <thead>\n",
       "    <tr style=\"text-align: right;\">\n",
       "      <th></th>\n",
       "      <th>hotelname</th>\n",
       "      <th>starrating</th>\n",
       "      <th>address</th>\n",
       "      <th>roomamenities</th>\n",
       "      <th>ratedescription</th>\n",
       "    </tr>\n",
       "  </thead>\n",
       "  <tbody>\n",
       "    <tr>\n",
       "      <th>144631</th>\n",
       "      <td>Hotel Krusharskata Kashta</td>\n",
       "      <td>3</td>\n",
       "      <td>Bul.Iskar 111, s. Govedartsi</td>\n",
       "      <td>Air conditioning: ;Closet: ;Desk: ;Free Wi-Fi ...</td>\n",
       "      <td>Room size: 22 m²/237 ft², Balcony/terrace, Sho...</td>\n",
       "    </tr>\n",
       "  </tbody>\n",
       "</table>\n",
       "</div>"
      ],
      "text/plain": [
       "                        hotelname  starrating                       address  \\\n",
       "144631  Hotel Krusharskata Kashta           3  Bul.Iskar 111, s. Govedartsi   \n",
       "\n",
       "                                            roomamenities  \\\n",
       "144631  Air conditioning: ;Closet: ;Desk: ;Free Wi-Fi ...   \n",
       "\n",
       "                                          ratedescription  \n",
       "144631  Room size: 22 m²/237 ft², Balcony/terrace, Sho...  "
      ]
     },
     "execution_count": 16,
     "metadata": {},
     "output_type": "execute_result"
    }
   ],
   "source": [
    "citybased('Borovets')\n"
   ]
  }
 ],
 "metadata": {
  "kernelspec": {
   "display_name": "Python 3",
   "language": "python",
   "name": "python3"
  },
  "language_info": {
   "codemirror_mode": {
    "name": "ipython",
    "version": 3
   },
   "file_extension": ".py",
   "mimetype": "text/x-python",
   "name": "python",
   "nbconvert_exporter": "python",
   "pygments_lexer": "ipython3",
   "version": "3.11.4"
  }
 },
 "nbformat": 4,
 "nbformat_minor": 2
}
